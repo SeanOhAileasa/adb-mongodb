{
 "cells": [
  {
   "cell_type": "markdown",
   "metadata": {},
   "source": [
    "# data-database-types-non-relational-NoSQL-MongoDB-JSON-BSON-document-method-aggregate-pipeline-sort\n",
    "> [TABLE OF CONTENTS](https://nbviewer.jupyter.org/github/SeanOhAileasa/adb-mongodb/blob/main/adb-mongodb.ipynb#top)\n",
    "***"
   ]
  },
  {
   "cell_type": "markdown",
   "metadata": {},
   "source": [
    "- **method** - **aggregate** - **pipeline** **stages** - **sort** [1]"
   ]
  },
  {
   "cell_type": "markdown",
   "metadata": {},
   "source": [
    "```json\n",
    "> show databases;\n",
    "admin    0.000GB\n",
    "config   0.000GB\n",
    "demo1    0.000GB\n",
    "local    0.000GB\n",
    "mdb      0.000GB\n",
    "myNewDB  0.000GB\n",
    "```"
   ]
  },
  {
   "cell_type": "markdown",
   "metadata": {},
   "source": [
    "```json\n",
    "> use mdb;\n",
    "switched to db mdb\n",
    "```"
   ]
  },
  {
   "cell_type": "markdown",
   "metadata": {},
   "source": [
    "```json\n",
    "> db;\n",
    "mdb\n",
    "```"
   ]
  },
  {
   "cell_type": "markdown",
   "metadata": {},
   "source": [
    "```json\n",
    "> show collections;\n",
    "emp\n",
    "gpa\n",
    "mydoc\n",
    "user\n",
    "```"
   ]
  },
  {
   "cell_type": "markdown",
   "metadata": {},
   "source": [
    "- **obtain** **maximum** gpa **per** age **group** - **method** - **aggregate** - **pipeline** **stages** - **name** - **group** [1]\n",
    "\n",
    "```json\n",
    "$group\n",
    "```"
   ]
  },
  {
   "cell_type": "markdown",
   "metadata": {},
   "source": [
    "- name - group - **value** - relational_row-record-tuple - mongodb_**document** [1]\n",
    "\n",
    "```json\n",
    "{\"_id\":\"$age\",\"MAX GPA PER AGE\":{$max:\"$gpa\"}}\n",
    "```"
   ]
  },
  {
   "cell_type": "markdown",
   "metadata": {},
   "source": [
    "- **name** - **underscore** **id** - \\_id - **mandatory** - **value** -  **null** - **or** - relational_column-attribute-field - mongodb_**attribute** - age - **prefixed** by the **dollar** **symbol** [1]\n",
    "\n",
    "\n",
    "- **group** **by** the - relational_column-attribute-field - mongodb_**attribute** - **value** - age [1]\n",
    "\n",
    "```json\n",
    "\"_id\":\"$age\"\n",
    "```"
   ]
  },
  {
   "cell_type": "markdown",
   "metadata": {},
   "source": [
    "- **specify** a **string** - maximum to be **displayed** **as** [1]\n",
    "\n",
    "```json\n",
    "\"MAX GPA PER AGE\"\n",
    "```"
   ]
  },
  {
   "cell_type": "markdown",
   "metadata": {},
   "source": [
    "- **name** - **aggregation** - **operator** - **max** - **value** - maximum gpa of - relational_column-attribute-field - mongodb_**attribute** - gpa - **prefixed** by the **dollar** **symbol** [1]\n",
    "\n",
    "```json\n",
    "$max:\"$gpa\"\n",
    "```"
   ]
  },
  {
   "cell_type": "markdown",
   "metadata": {},
   "source": [
    "```json\n",
    "> db.gpa.aggregate([{$group:{\"_id\":\"$age\",\"MAX GPA PER AGE\":{$max:\"$gpa\"}}}]);\n",
    "{ \"_id\" : 23, \"MAX GPA PER AGE\" : 4.5 }\n",
    "{ \"_id\" : 24, \"MAX GPA PER AGE\" : 3.5 }\n",
    "{ \"_id\" : 22, \"MAX GPA PER AGE\" : 4 }\n",
    "```"
   ]
  },
  {
   "cell_type": "markdown",
   "metadata": {},
   "source": [
    "- **sort** - **result** of the **returned** maximum gpa per age **group** [1]\n",
    "\n",
    "\n",
    "- **sort** in **ascending** - **name** - \\_id - **value** - **1** - **defined** in the -  **pipeline** **stages** - **group** - **as** **the** - relational_column-attribute-field - mongodb_**attribute** - age  [1]\n",
    "\n",
    "```json\n",
    "{$sort:{\"_id\":1}}\n",
    "```"
   ]
  },
  {
   "cell_type": "markdown",
   "metadata": {},
   "source": [
    "```json\n",
    "> db.gpa.aggregate([{$group:{\"_id\":\"$age\",\"MAX GPA PER AGE\":{$max:\"$gpa\"}}},{$sort:{\"_id\":1}}]);\n",
    "{ \"_id\" : 22, \"MAX GPA PER AGE\" : 4 }\n",
    "{ \"_id\" : 23, \"MAX GPA PER AGE\" : 4.5 }\n",
    "{ \"_id\" : 24, \"MAX GPA PER AGE\" : 3.5 }\n",
    "```"
   ]
  },
  {
   "cell_type": "markdown",
   "metadata": {},
   "source": [
    "***\n",
    "# END"
   ]
  }
 ],
 "metadata": {
  "kernelspec": {
   "display_name": "Python 3",
   "language": "python",
   "name": "python3"
  },
  "language_info": {
   "codemirror_mode": {
    "name": "ipython",
    "version": 3
   },
   "file_extension": ".py",
   "mimetype": "text/x-python",
   "name": "python",
   "nbconvert_exporter": "python",
   "pygments_lexer": "ipython3",
   "version": "3.7.6"
  }
 },
 "nbformat": 4,
 "nbformat_minor": 4
}

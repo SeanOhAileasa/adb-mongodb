{
 "cells": [
  {
   "cell_type": "markdown",
   "metadata": {},
   "source": [
    "# data-database-types-non-relational-NoSQL-MongoDB-JSON-BSON-document-method-save\n",
    "> [TABLE OF CONTENTS](https://nbviewer.jupyter.org/github/SeanOhAileasa/adb-mongodb/blob/main/adb-mongodb.ipynb#top)\n",
    "***"
   ]
  },
  {
   "cell_type": "markdown",
   "metadata": {},
   "source": [
    "- **relational**_**row**-record-tuple - **mongodb**_**document** - **analogous** to a **json** **object** - **name**/**value** **pairs** - **separated** by **commas** - **surrounded** by **curly** **braces** [1]"
   ]
  },
  {
   "cell_type": "markdown",
   "metadata": {},
   "source": [
    "```json\n",
    "> show dbs;\n",
    "admin    0.000GB\n",
    "config   0.000GB\n",
    "local    0.000GB\n",
    "myDemo   0.000GB\n",
    "myNewDB  0.000GB\n",
    "```"
   ]
  },
  {
   "cell_type": "markdown",
   "metadata": {},
   "source": [
    "```json\n",
    "> use mdb;\n",
    "switched to db mdb\n",
    "```"
   ]
  },
  {
   "cell_type": "markdown",
   "metadata": {},
   "source": [
    "```json\n",
    "> show dbs;\n",
    "admin    0.000GB\n",
    "config   0.000GB\n",
    "local    0.000GB\n",
    "myDemo   0.000GB\n",
    "myNewDB  0.000GB\n",
    "```"
   ]
  },
  {
   "cell_type": "markdown",
   "metadata": {},
   "source": [
    "```json\n",
    "> db;\n",
    "mdb\n",
    "```"
   ]
  },
  {
   "cell_type": "markdown",
   "metadata": {},
   "source": [
    "- create - relational_rows-records-tuples - mongodb_documents - method - save [1]\n",
    "\n",
    "```json\n",
    ".save()\n",
    "```\n",
    "\n",
    "- **method** - **save** - passing **parameter** which is the - relational_row-record-tuple - mongodb_**document** - **to** **be** **saved** [1]\n",
    "\n",
    "```json\n",
    "{\n",
    "    \"_id\":1, \n",
    "    \"name\":\"Tom\",\n",
    "    \"age\":37\n",
    "}\n",
    "{\n",
    "    \"_id\":2, \n",
    "    \"name\":\"Bill\",\n",
    "    \"age\":44\n",
    "}\n",
    "{\n",
    "    \"_id\":3, \n",
    "    \"name\":\"Mary\",\n",
    "    \"age\":29\n",
    "}\n",
    "{\n",
    "    \"_id\":4, \n",
    "    \"name\":\"Susan\",\n",
    "    \"age\":37\n",
    "}\n",
    "```\n",
    "\n",
    "```json\n",
    "{\"_id\":1,\"name\":\"Tom\",\"age\":37}\n",
    "{\"_id\":2,\"name\":\"Bill\",\"age\":44}\n",
    "{\"_id\":3,\"name\":\"Mary\",\"age\":29}\n",
    "{\"_id\":4,\"name\":\"Susan\",\"age\":37}\n",
    "```\n",
    "\n",
    "- **must** **specify** **where** the - relational_rows-records-tuples - mongodb_**documents** - are to be **saved** **to** - relational_table-entity-relation - mongodb_**collection** - mydoc [1]\n",
    "\n",
    "\n",
    "- **analogous** - **mysql** - to **inserting** a **row** - record - tuple into a **table** - entity - relation [1]\n",
    "\n",
    "```json\n",
    ".mydoc\n",
    "```\n",
    "\n",
    "- **must** **specify** **which** **database** to **save** **to** - **db** - **reference** to the **current** database - mdb [1]\n",
    "\n",
    "```json\n",
    "db\n",
    "```"
   ]
  },
  {
   "cell_type": "markdown",
   "metadata": {},
   "source": [
    "```json\n",
    "> db.mydoc.save({\"_id\":1,\"name\":\"Tom\",\"age\":37});\n",
    "WriteResult({ \"nMatched\" : 0, \"nUpserted\" : 1, \"nModified\" : 0, \"_id\" : 1 })\n",
    "> db.mydoc.save({\"_id\":2,\"name\":\"Bill\",\"age\":44});\n",
    "WriteResult({ \"nMatched\" : 0, \"nUpserted\" : 1, \"nModified\" : 0, \"_id\" : 2 })\n",
    "> db.mydoc.save({\"_id\":3,\"name\":\"Mary\",\"age\":29});\n",
    "WriteResult({ \"nMatched\" : 0, \"nUpserted\" : 1, \"nModified\" : 0, \"_id\" : 3 })\n",
    "> db.mydoc.save({\"_id\":4,\"name\":\"Susan\",\"age\":37});\n",
    "WriteResult({ \"nMatched\" : 0, \"nUpserted\" : 1, \"nModified\" : 0, \"_id\" : 4 })\n",
    "```"
   ]
  },
  {
   "cell_type": "markdown",
   "metadata": {},
   "source": [
    "```json\n",
    "> show dbs;\n",
    "admin    0.000GB\n",
    "config   0.000GB\n",
    "local    0.000GB\n",
    "mdb      0.000GB\n",
    "myDemo   0.000GB\n",
    "myNewDB  0.000GB\n",
    "```"
   ]
  },
  {
   "cell_type": "markdown",
   "metadata": {},
   "source": [
    "- **show** - relational_table-entity-relation - mongodb_**collection** - mydoc - **calling** **method** - **find** - **passing** **no** **parameter** [1]"
   ]
  },
  {
   "cell_type": "markdown",
   "metadata": {},
   "source": [
    "```json\n",
    "> db.mydoc.find();\n",
    "{ \"_id\" : 1, \"name\" : \"Tom\", \"age\" : 37 }\n",
    "{ \"_id\" : 2, \"name\" : \"Bill\", \"age\" : 44 }\n",
    "{ \"_id\" : 3, \"name\" : \"Mary\", \"age\" : 29 }\n",
    "{ \"_id\" : 4, \"name\" : \"Susan\", \"age\" : 37 }\n",
    "```"
   ]
  },
  {
   "cell_type": "markdown",
   "metadata": {},
   "source": [
    "- **show** - relational_table-entity-relation - mongodb_**collection** - mydoc - **calling** **method** - **find** - **passing** **parameter** - **json** **object** [1]\n",
    "\n",
    "```json\n",
    "{\"_id\":1}\n",
    "```"
   ]
  },
  {
   "cell_type": "markdown",
   "metadata": {},
   "source": [
    "```json\n",
    "> db.mydoc.find({\"_id\":1});\n",
    "{ \"_id\" : 1, \"name\" : \"Tom\", \"age\" : 37 }\n",
    "```"
   ]
  },
  {
   "cell_type": "markdown",
   "metadata": {},
   "source": [
    "- **mysql** - **unable** to **save** - relational_**row**-record-tuple - mongodb_document -  **given** that there **exists** a - relational_**row**-record-tuple - mongodb_document - with relational_**column**-attribute-field - mongodb_attribute - **underscore** **id** - \\_id - 1 [1]"
   ]
  },
  {
   "cell_type": "markdown",
   "metadata": {},
   "source": [
    "- **behaviour** in **mongodb** is **different** - the **existing** - relational_row-record-tuple - mongodb_**document** - **overwritten**[7]"
   ]
  },
  {
   "cell_type": "markdown",
   "metadata": {},
   "source": [
    " - **method** - **save** - **does** **not** really **do** **anything** but **instead** **calls** **one** of **two** **methods** - **insert** - **update** [1]"
   ]
  },
  {
   "cell_type": "markdown",
   "metadata": {},
   "source": [
    " - could be **described** as a **wrapper** **method** - **purpose** is to **call** a **second** **method** with little or no additional processing - **wrappers** in programming are **used** to **hide** or **abstract** **details** [1]"
   ]
  },
  {
   "cell_type": "markdown",
   "metadata": {},
   "source": [
    "```json\n",
    "> db.mydoc.save({\"_id\":1,\"name\":\"Frank\",\"age\":72});\n",
    "WriteResult({ \"nMatched\" : 1, \"nUpserted\" : 0, \"nModified\" : 1 })\n",
    "```"
   ]
  },
  {
   "cell_type": "markdown",
   "metadata": {},
   "source": [
    "```json\n",
    "> db.mydoc.find({\"_id\":1});\n",
    "{ \"_id\" : 1, \"name\" : \"Frank\", \"age\" : 72 }\n",
    "```"
   ]
  },
  {
   "cell_type": "markdown",
   "metadata": {},
   "source": [
    "***\n",
    "# END"
   ]
  }
 ],
 "metadata": {
  "kernelspec": {
   "display_name": "Python 3",
   "language": "python",
   "name": "python3"
  },
  "language_info": {
   "codemirror_mode": {
    "name": "ipython",
    "version": 3
   },
   "file_extension": ".py",
   "mimetype": "text/x-python",
   "name": "python",
   "nbconvert_exporter": "python",
   "pygments_lexer": "ipython3",
   "version": "3.7.6"
  }
 },
 "nbformat": 4,
 "nbformat_minor": 4
}

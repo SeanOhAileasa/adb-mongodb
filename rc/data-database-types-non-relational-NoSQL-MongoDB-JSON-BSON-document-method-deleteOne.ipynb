{
 "cells": [
  {
   "cell_type": "markdown",
   "metadata": {},
   "source": [
    "# data-database-types-non-relational-NoSQL-MongoDB-JSON-BSON-document-method-deleteOne\n",
    "> [TABLE OF CONTENTS](https://nbviewer.jupyter.org/github/SeanOhAileasa/adb-mongodb/blob/main/adb-mongodb.ipynb#top)\n",
    "***"
   ]
  },
  {
   "cell_type": "markdown",
   "metadata": {},
   "source": [
    "- **method** - **deleteOne** - **removes** a **single** - relational_row-record-tuple - mongodb_**document** - from a - relational_table-entity-relation - mongodb_**collection** [1]"
   ]
  },
  {
   "cell_type": "markdown",
   "metadata": {},
   "source": [
    "```json\n",
    "> show databases;\n",
    "admin    0.000GB\n",
    "config   0.000GB\n",
    "demo1    0.000GB\n",
    "local    0.000GB\n",
    "mdb      0.000GB\n",
    "myNewDB  0.000GB\n",
    "```"
   ]
  },
  {
   "cell_type": "markdown",
   "metadata": {},
   "source": [
    "```json\n",
    "> use mdb;\n",
    "switched to db mdb\n",
    "```"
   ]
  },
  {
   "cell_type": "markdown",
   "metadata": {},
   "source": [
    "```json\n",
    "> db;\n",
    "mdb\n",
    "```"
   ]
  },
  {
   "cell_type": "markdown",
   "metadata": {},
   "source": [
    "```json\n",
    "> show collections;\n",
    "emp\n",
    "mydoc\n",
    "user\n",
    "```"
   ]
  },
  {
   "cell_type": "markdown",
   "metadata": {},
   "source": [
    "```json\n",
    "> db.mydoc.find();\n",
    "{ \"_id\" : 1, \"name\" : \"Tom\", \"age\" : 37 }\n",
    "{ \"_id\" : 2, \"name\" : \"Bill\", \"age\" : 44 }\n",
    "{ \"_id\" : 3, \"name\" : \"Mary\", \"age\" : 29 }\n",
    "{ \"_id\" : 4, \"name\" : \"Susan\", \"age\" : 37 }\n",
    "{ \"_id\" : 5, \"name\" : \"Sean\", \"age\" : 54 }\n",
    "{ \"_id\" : 6, \"name\" : \"Luke\" }\n",
    "```"
   ]
  },
  {
   "cell_type": "markdown",
   "metadata": {},
   "source": [
    "- **delete** - **single** - relational_row-record-tuple - mongodb_**document** - **whereby** - relational_column-attribute-field - mongodb_**attribute** - **name** - age - **value** - **operator** - **lt** - **less** **than** - forty [1]\n",
    "\n",
    "- **deletes** **only** **one** - relational_row-record-tuple - mongodb_**document** [1]\n",
    "\n",
    "```json\n",
    "{ \"_id\" : 1, \"name\" : \"Tom\", \"age\" : 37 }\n",
    "```"
   ]
  },
  {
   "cell_type": "markdown",
   "metadata": {},
   "source": [
    "```json\n",
    "> db.mydoc.deleteOne({\"age\":{$lt:40}});\n",
    "{ \"acknowledged\" : true, \"deletedCount\" : 1 }\n",
    "```"
   ]
  },
  {
   "cell_type": "markdown",
   "metadata": {},
   "source": [
    "```json\n",
    "> db.mydoc.find();\n",
    "{ \"_id\" : 2, \"name\" : \"Bill\", \"age\" : 44 }\n",
    "{ \"_id\" : 3, \"name\" : \"Mary\", \"age\" : 29 }\n",
    "{ \"_id\" : 4, \"name\" : \"Susan\", \"age\" : 37 }\n",
    "{ \"_id\" : 5, \"name\" : \"Sean\", \"age\" : 54 }\n",
    "{ \"_id\" : 6, \"name\" : \"Luke\" }\n",
    "```"
   ]
  },
  {
   "cell_type": "markdown",
   "metadata": {},
   "source": [
    "***\n",
    "# END"
   ]
  }
 ],
 "metadata": {
  "kernelspec": {
   "display_name": "Python 3",
   "language": "python",
   "name": "python3"
  },
  "language_info": {
   "codemirror_mode": {
    "name": "ipython",
    "version": 3
   },
   "file_extension": ".py",
   "mimetype": "text/x-python",
   "name": "python",
   "nbconvert_exporter": "python",
   "pygments_lexer": "ipython3",
   "version": "3.7.6"
  }
 },
 "nbformat": 4,
 "nbformat_minor": 4
}

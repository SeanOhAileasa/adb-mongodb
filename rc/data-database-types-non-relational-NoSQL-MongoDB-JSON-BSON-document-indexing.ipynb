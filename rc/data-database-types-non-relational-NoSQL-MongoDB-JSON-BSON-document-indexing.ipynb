{
 "cells": [
  {
   "cell_type": "markdown",
   "metadata": {},
   "source": [
    "# data-database-types-non-relational-NoSQL-MongoDB-JSON-BSON-document-indexing\n",
    "> [TABLE OF CONTENTS](https://nbviewer.jupyter.org/github/SeanOhAileasa/adb-mongodb/blob/main/adb-mongodb.ipynb#top)\n",
    "***"
   ]
  },
  {
   "cell_type": "markdown",
   "metadata": {},
   "source": [
    "```json\n",
    "> show databases;\n",
    "admin    0.000GB\n",
    "config   0.000GB\n",
    "demo1    0.000GB\n",
    "local    0.000GB\n",
    "mdb      0.000GB\n",
    "myNewDB  0.000GB\n",
    "```"
   ]
  },
  {
   "cell_type": "markdown",
   "metadata": {},
   "source": [
    "```json\n",
    "> use mdb;\n",
    "switched to db mdb\n",
    "```"
   ]
  },
  {
   "cell_type": "markdown",
   "metadata": {},
   "source": [
    "```json\n",
    "> db;\n",
    "mdb\n",
    "```"
   ]
  },
  {
   "cell_type": "markdown",
   "metadata": {},
   "source": [
    "```json\n",
    "> show collections;\n",
    "emp\n",
    "gpa\n",
    "mydoc\n",
    "user\n",
    "```"
   ]
  },
  {
   "cell_type": "markdown",
   "metadata": {},
   "source": [
    "- **consider** if - relational_table-entity-relation - mongodb_**collection** - user - **had** **five-million** - relational_rows-records-tuples - mongodb_**documents** [1]"
   ]
  },
  {
   "cell_type": "markdown",
   "metadata": {},
   "source": [
    "```json\n",
    "> db.user.find();\n",
    "{ \"_id\" : 1, \"fname\" : \"John\", \"sname\" : \"Smith\", \"age\" : 22, \"email\" : \"john@gmail.com\" }\n",
    "{ \"_id\" : 2, \"fname\" : \"Sean\", \"sname\" : \"Williams\", \"age\" : 30, \"email\" : \"williamss@gmail.com\" }\n",
    "{ \"_id\" : 3, \"fname\" : \"Albert\", \"sname\" : \"O'Hara\", \"age\" : 27, \"email\" : \"al@hotmail.com\", \"twitter\" : \"@al1234\" } { \"_id\" : 4, \"fname\" : \"Mary\", \"sname\" : \"Collins\", \"age\" : 22 }\n",
    "{ \"_id\" : 5, \"fname\" : \"Susan\", \"sname\" : \"Hanly\", \"age\" : 18, \"email\" : \"susie@hotmail.com\", \"twitter\" : \"@Susi2u\" }\n",
    "\n",
    "...\n",
    "...\n",
    "...\n",
    "\n",
    "{ \"_id\" : 5000000, \"fname\" : \"...\", \"sname\" : \"...\", \"age\" : ..., \"email\" : \"...\", \"twitter\" : \"...\" }\n",
    "```"
   ]
  },
  {
   "cell_type": "markdown",
   "metadata": {},
   "source": [
    "- **return** **all** - relational_rows-records-tuples - mongodb_**documents** - **whereby** - relational_column-attribute-field - mongodb_**attribute** - **name** - age - **value** - **greater** **than** twenty-seven [1]"
   ]
  },
  {
   "cell_type": "markdown",
   "metadata": {},
   "source": [
    "- **mongodb** - **gets** the **first** - relational_row-record-tuple - mongodb_**document** - **checks** **if** it has - relational_column-attribute-field - mongodb_**attribute** - **name** - age - **value** - **greater** **than** twenty-seven - **if** **so** - **return** - **if** **not** - **ignore** - **move** to the **next** - relational_row-record-tuple - mongodb_**document** [1]"
   ]
  },
  {
   "cell_type": "markdown",
   "metadata": {},
   "source": [
    "- **repeat** **until** **all** - relational_rows-records-tuples - mongodb_**documents** - **checked** - may **take** a **long** **time** [1]"
   ]
  },
  {
   "cell_type": "markdown",
   "metadata": {},
   "source": [
    "- **mongodb** - **goes** **to** the **database** - **reads** **five-million** -  relational_rows-records-tuples - mongodb_**documents** - **checking** - relational_column-attribute-field - mongodb_**attribute** - **name** - age - **value** - if **greater** **than** twenty-seven [1]"
   ]
  },
  {
   "cell_type": "markdown",
   "metadata": {},
   "source": [
    "- **if** - relational_rows-records-tuples - mongodb_**documents** - **are** **based** **across** **multiple** **shards** - **process** **could** **take** **longer** - pseudocode [1]\n",
    "\n",
    "```\n",
    "for each document d in \"user\"{\n",
    "    if (d.age>18){\n",
    "        return d;\n",
    "    }\n",
    "}\n",
    "```"
   ]
  },
  {
   "cell_type": "markdown",
   "metadata": {},
   "source": [
    " - **solution** to **reading** **every** **single** - relational_row-record-tuple - mongodb_**document** - in the - relational_table-entity-relation - mongodb_**collection** - is to **use** - **indexing** [1]"
   ]
  },
  {
   "cell_type": "markdown",
   "metadata": {},
   "source": [
    "- indexing **supports** the **efficient** **execution** of **queries** - **otherwise** must **perform** a **collection** **scan** - scan every - relational_row-record-tuple - mongodb_document - in the - relational_table-entity-relation - mongodb_collection - **to** **select** those **documents** that **match** the statement - **query** [1]"
   ]
  },
  {
   "cell_type": "markdown",
   "metadata": {},
   "source": [
    " - **indexes** are **special** **data** **structures** that **store** a **small** **portion** of the - relational_table-entity-relation - mongodb_**collection** [1]"
   ]
  },
  {
   "cell_type": "markdown",
   "metadata": {},
   "source": [
    "- **data** is **set** **up** in an **easy** to **traverse** **form** - **indexes** **hold** **mappings** from - relational_column-attribute-field - mongodb_**attribute** - **values** - **to** - relational_row-record-tuple - mongodb_**document** - **locations** [1]"
   ]
  },
  {
   "cell_type": "markdown",
   "metadata": {},
   "source": [
    "<img src=\"img/04-01-15-05-04-00-[7].png\" />"
   ]
  },
  {
   "cell_type": "markdown",
   "metadata": {},
   "source": [
    "- relational_rows-records-tuples - mongodb_**documents** - **stored** **at** **disk** **locations** indicated [1]"
   ]
  },
  {
   "cell_type": "markdown",
   "metadata": {},
   "source": [
    "<img src=\"img/04-01-15-05-04-00-[7]-1.png\" />"
   ]
  },
  {
   "cell_type": "markdown",
   "metadata": {},
   "source": [
    "- **knowing** that a **lot** **of** - **queries** - are to be **performed** **on** the - relational_column-attribute-field - mongodb_**attribute** - **name** - age - **can** **set** - relational_column-attribute-field - mongodb_**attribute** - **name** - age - **as** an **index** [1]"
   ]
  },
  {
   "cell_type": "markdown",
   "metadata": {},
   "source": [
    "- **mongodb** - **creates** an **index** **data** **structure** for the - relational_column-attribute-field - mongodb_**attribute** - **name** - age [1]"
   ]
  },
  {
   "cell_type": "markdown",
   "metadata": {},
   "source": [
    "- **the** **index** **stores** the **value** of a **specific** - relational_column-attribute-field - mongodb_**attribute** - **or** **set** **of** - relational_columns-attributes-fields - mongodb_**attributes** - **ordered** by the - relational_column-attribute-field - mongodb_**attribute** - **value**[7]"
   ]
  },
  {
   "cell_type": "markdown",
   "metadata": {},
   "source": [
    "- the **ordering** of the **index** **entry** **supports** **equality** **matches** **efficiently** **and** **range** **based** **query** **operations** [1]"
   ]
  },
  {
   "cell_type": "markdown",
   "metadata": {},
   "source": [
    "- the **index** for the - relational_column-attribute-field - mongodb_**attribute** - **name** - age - **return** **all** - relational_rows-records-tuples - mongodb_**documents** - **name** - age - **value** - **greater** **than** twenty-seven [1]"
   ]
  },
  {
   "cell_type": "markdown",
   "metadata": {},
   "source": [
    "- **go** to the **next** **entry** in the **index** **table** **after** - **value** - twenty-seven - **get** **locations** **of** **all** - relational_rows-records-tuples - mongodb_**documents** - that **exist** in the **index** **table** and **read** **them** [1]"
   ]
  },
  {
   "cell_type": "markdown",
   "metadata": {},
   "source": [
    "- **to** **return** **only** - relational_rows-records-tuples - mongodb_**documents** - where the - relational_column-attribute-field - mongodb_**attribute** - **name** - age - **value** - **is** thirty-one - **can** **check** **if** this - **value** - **exist** is in the - **name** - age - **index** **table** - **if** **so** **read** the - relational_rows-records-tuples - mongodb_**documents** - at the **associated** **addresses** [1]"
   ]
  },
  {
   "cell_type": "markdown",
   "metadata": {},
   "source": [
    "- **indexing** - **saves** **time** by **not** **doing** a **collection** **scan** - **not** **reading** **every** **single** - relational_row-record-tuple - mongodb_**document** - in the - relational_table-entity-relation - mongodb_**collection** [1]"
   ]
  },
  {
   "cell_type": "markdown",
   "metadata": {},
   "source": [
    "<img src=\"img/04-01-15-05-04-00-[7]-2.png\" />"
   ]
  },
  {
   "cell_type": "markdown",
   "metadata": {},
   "source": [
    "- **indexing** - **should** be **used** **in** **moderation** - **querying** **data** is **faster** than **indexing** [1]"
   ]
  },
  {
   "cell_type": "markdown",
   "metadata": {},
   "source": [
    "- **writing** to a - relational_row-record-tuple - mongodb_**document** - that **has** an **index** **field** - **adding** - relational_row-record-tuple - mongodb_**document** - **name** - \\_id - **value** - 989351 [1]"
   ]
  },
  {
   "cell_type": "markdown",
   "metadata": {},
   "source": [
    "<img src=\"img/04-01-15-05-04-00-[7]-3.png\" />"
   ]
  },
  {
   "cell_type": "markdown",
   "metadata": {},
   "source": [
    "- **must** **update** - relational_column-attribute-field - mongodb_**attribute** - **name** - age - **index** **table** - which is in the - relational_column-attribute-field - mongodb_**attribute** - **name** - age - **order** [1]"
   ]
  },
  {
   "cell_type": "markdown",
   "metadata": {},
   "source": [
    "- the **new** - relational_row-record-tuple - mongodb_**document** - **name** - age - **value** - 19 - **first** - **a** **place** is **given** for this **value** in the **index** **table** - **second** - **as** **well** **as** **write** the **value** to the **table** - **all** **this** **extra** **processing** **needs** to be **performed** **if** the - relational_column-attribute-field - mongodb_**attribute** - **is** an **index** [1]"
   ]
  },
  {
   "cell_type": "markdown",
   "metadata": {},
   "source": [
    "<img src=\"img/04-01-15-05-04-00-[7]-4.png\" />"
   ]
  },
  {
   "cell_type": "markdown",
   "metadata": {},
   "source": [
    "- **deleting** - relational_row-record-tuple - mongodb_**document** - **name** - age - **value** - 40 - **location** - 856 [1]"
   ]
  },
  {
   "cell_type": "markdown",
   "metadata": {},
   "source": [
    "<img src=\"img/04-01-15-05-04-00-[7]-3.png\" />"
   ]
  },
  {
   "cell_type": "markdown",
   "metadata": {},
   "source": [
    "- **as** **well** **as** **deleting** the - relational_row-record-tuple - mongodb_**document** - must **also** **update** the - relational_table-entity-relation - mongodb_**collection** - **name** - age - **index** **table** [1]"
   ]
  },
  {
   "cell_type": "markdown",
   "metadata": {},
   "source": [
    "<img src=\"img/04-01-15-05-04-00-[7]-5.png\" />"
   ]
  },
  {
   "cell_type": "markdown",
   "metadata": {},
   "source": [
    "- **having** **too** **many** **or** **too** **complex** - **indexes** - **on** - relational_rows-records-tuples - mongodb_**documents** - would **also** **negatively** **impact** **performance** [1]"
   ]
  },
  {
   "cell_type": "markdown",
   "metadata": {},
   "source": [
    "***\n",
    "# END"
   ]
  }
 ],
 "metadata": {
  "kernelspec": {
   "display_name": "Python 3",
   "language": "python",
   "name": "python3"
  },
  "language_info": {
   "codemirror_mode": {
    "name": "ipython",
    "version": 3
   },
   "file_extension": ".py",
   "mimetype": "text/x-python",
   "name": "python",
   "nbconvert_exporter": "python",
   "pygments_lexer": "ipython3",
   "version": "3.7.6"
  }
 },
 "nbformat": 4,
 "nbformat_minor": 4
}

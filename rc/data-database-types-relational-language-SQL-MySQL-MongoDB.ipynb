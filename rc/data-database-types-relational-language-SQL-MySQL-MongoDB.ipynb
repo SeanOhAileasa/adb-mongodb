{
 "cells": [
  {
   "cell_type": "markdown",
   "metadata": {},
   "source": [
    "# data-database-types-relational-language-SQL-MySQL-MongoDB\n",
    "> [TABLE OF CONTENTS](https://nbviewer.jupyter.org/github/SeanOhAileasa/adb-mongodb/blob/main/adb-mongodb.ipynb#top)\n",
    "***"
   ]
  },
  {
   "cell_type": "markdown",
   "metadata": {},
   "source": [
    "- **mongdb** - better to **use** when the **amount** of **data** to be **stored** is **enormous** or when **data** can **increase** in a **relatively** **short** period of **time** [1]"
   ]
  },
  {
   "cell_type": "markdown",
   "metadata": {},
   "source": [
    "- **data** to be **stored** is **not** in a **consistent** **structure** or is **consistently** **changing** - **mongodb** - **preferable** to - **mysql** [1]"
   ]
  },
  {
   "cell_type": "markdown",
   "metadata": {},
   "source": [
    " - **mongodb** - **use** **document** **referencing** and **embedding** - albeit does **not** have the **strict** **foreign** **key** **constraints** **available** in - **mysql** - may be a problem in some scenarios - double entry accounting - need to ensure a value put into a record actually exists in the database [1]"
   ]
  },
  {
   "cell_type": "markdown",
   "metadata": {},
   "source": [
    "- **mysql** - **very** **stable** based on technology around for decades - if the **data** to be stored is **very** **structured** and **controlled** then - **mysql** - **better** **option** [1]"
   ]
  },
  {
   "cell_type": "markdown",
   "metadata": {},
   "source": [
    "- **data** **types** - **foreign** **keys** - **ensure** **data** **integrity** - mysql [1]"
   ]
  },
  {
   "cell_type": "markdown",
   "metadata": {},
   "source": [
    "- environments - **data** **security** and **integrity** is **important** then - **mysql** - is a **better** **option** [1]"
   ]
  },
  {
   "cell_type": "markdown",
   "metadata": {},
   "source": [
    "***\n",
    "# END"
   ]
  }
 ],
 "metadata": {
  "kernelspec": {
   "display_name": "Python 3",
   "language": "python",
   "name": "python3"
  },
  "language_info": {
   "codemirror_mode": {
    "name": "ipython",
    "version": 3
   },
   "file_extension": ".py",
   "mimetype": "text/x-python",
   "name": "python",
   "nbconvert_exporter": "python",
   "pygments_lexer": "ipython3",
   "version": "3.7.6"
  }
 },
 "nbformat": 4,
 "nbformat_minor": 4
}

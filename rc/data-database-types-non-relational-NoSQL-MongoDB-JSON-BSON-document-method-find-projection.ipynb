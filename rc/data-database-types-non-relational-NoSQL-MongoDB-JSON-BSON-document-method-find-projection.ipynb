{
 "cells": [
  {
   "cell_type": "markdown",
   "metadata": {},
   "source": [
    "# data-database-types-non-relational-NoSQL-MongoDB-JSON-BSON-document-method-find-projection\n",
    "> [TABLE OF CONTENTS](https://nbviewer.jupyter.org/github/SeanOhAileasa/adb-mongodb/blob/main/adb-mongodb.ipynb#top)\n",
    "***"
   ]
  },
  {
   "cell_type": "markdown",
   "metadata": {},
   "source": [
    "- **method** - **find** - **syntax** - **optional** **parameter** - **query** - **optional** **parameter** - **projection** [1]"
   ]
  },
  {
   "cell_type": "markdown",
   "metadata": {},
   "source": [
    "- **projection** - **determines** **which** - relational_columns-attributes-fields - mongodb_**attributes** - are **returned** in the **matching** - relational_rows-records-tuples - mongodb_**documents** [1]"
   ]
  },
  {
   "cell_type": "markdown",
   "metadata": {},
   "source": [
    "```json\n",
    "find(query,projection)\n",
    "```"
   ]
  },
  {
   "cell_type": "markdown",
   "metadata": {},
   "source": [
    "```json\n",
    "> show dbs;\n",
    "admin    0.000GB\n",
    "config   0.000GB\n",
    "demo1    0.000GB\n",
    "local    0.000GB\n",
    "mdb      0.000GB\n",
    "myNewDB  0.000GB\n",
    "```"
   ]
  },
  {
   "cell_type": "markdown",
   "metadata": {},
   "source": [
    "```json\n",
    "> use mdb;\n",
    "switched to db mdb\n",
    "```"
   ]
  },
  {
   "cell_type": "markdown",
   "metadata": {},
   "source": [
    "```json\n",
    "> db;\n",
    "mdb\n",
    "```"
   ]
  },
  {
   "cell_type": "markdown",
   "metadata": {},
   "source": [
    "```json\n",
    "> db.user.save({\"_id\":1,\"fname\":\"John\",\"sname\":\"Smith\",\"age\":22,\"email\":\"john@gmail.com\"});\n",
    "WriteResult({ \"nMatched\" : 0, \"nUpserted\" : 1, \"nModified\" : 0, \"_id\" : 1 })\n",
    "> db.user.save({\"_id\":2,\"fname\":\"Sean\",\"sname\":\"Williams\",\"age\":30,\"email\":\"williamss@gmail.com\"});\n",
    "WriteResult({ \"nMatched\" : 0, \"nUpserted\" : 1, \"nModified\" : 0, \"_id\" : 2 })\n",
    "> db.user.save({\"_id\":3,\"fname\":\"Albert\",\"sname\":\"O'Hara\",\"age\":27,\"email\":\"al@hotmail.com\",\"twitter\":\"@al1234\"});\n",
    "WriteResult({ \"nMatched\" : 0, \"nUpserted\" : 1, \"nModified\" : 0, \"_id\" : 3 })\n",
    "> db.user.save({\"_id\":4,\"fname\":\"Mary\",\"sname\":\"Collins\",\"age\":22});\n",
    "WriteResult({ \"nMatched\" : 0, \"nUpserted\" : 1, \"nModified\" : 0, \"_id\" : 4 })\n",
    "> db.user.save({\"_id\":5,\"fname\":\"Susan\",\"sname\":\"Hanly\",\"age\":18,\"email\":\"susie@hotmail.com\",\"twitter\":\"@Susi2u\"});\n",
    "WriteResult({ \"nMatched\" : 0, \"nUpserted\" : 1, \"nModified\" : 0, \"_id\" : 5 })\n",
    "```"
   ]
  },
  {
   "cell_type": "markdown",
   "metadata": {},
   "source": [
    "```json\n",
    "> show collections;\n",
    "mydoc\n",
    "user\n",
    "```"
   ]
  },
  {
   "cell_type": "markdown",
   "metadata": {},
   "source": [
    "```json\n",
    "> db.user.find();\n",
    "{ \"_id\" : 1, \"fname\" : \"John\", \"sname\" : \"Smith\", \"age\" : 22, \"email\" : \"john@gmail.com\" }\n",
    "{ \"_id\" : 2, \"fname\" : \"Sean\", \"sname\" : \"Williams\", \"age\" : 30, \"email\" : \"williamss@gmail.com\" }\n",
    "{ \"_id\" : 3, \"fname\" : \"Albert\", \"sname\" : \"O'Hara\", \"age\" : 27, \"email\" : \"al@hotmail.com\", \"twitter\" : \"@al1234\" } { \"_id\" : 4, \"fname\" : \"Mary\", \"sname\" : \"Collins\", \"age\" : 22 }\n",
    "{ \"_id\" : 5, \"fname\" : \"Susan\", \"sname\" : \"Hanly\", \"age\" : 18, \"email\" : \"susie@hotmail.com\", \"twitter\" : \"@Susi2u\" }\n",
    "```"
   ]
  },
  {
   "cell_type": "markdown",
   "metadata": {},
   "source": [
    "- **return** **only** - relational_column-attribute-field - mongodb_**attribute** - email - **of** **each** **matching** - relational_row-record-tuple - mongodb_**document** - **has** - relational_column-attribute-field - mongodb_**attribute** - age - **operator** - **gt** **than** - twenty [1]\n",
    "\n",
    "\n",
    "- **passing** **two** **parameters** to - **method** - **find** [1]\n",
    "\n",
    "\n",
    "-  **first** **parameter** - **query** - **match** **all** - relational_rows-record-tuples - mongodb_**documents** - **where** the - relational_column-attribute-field - mongodb_**attribute** - age - **operator** - **gt** - **greater** **than** - twenty [1]\n",
    "\n",
    "```json\n",
    "{\"age\":{$gt:20}}\n",
    "```"
   ]
  },
  {
   "cell_type": "markdown",
   "metadata": {},
   "source": [
    "- **second** **parameter** - **projection** - **states** **which** - relational_columns-attributes-fields - mongodb_**attributes** - **to** **return** - only returning the - relational_column-attribute-field - mongodb_attribute - email [1]\n",
    "\n",
    "\n",
    "- **common** **values** in a - **projection** - **1** **or** **true** - **return** - **0** **or** **false** - **not** **return** [1]\n",
    "\n",
    "```json\n",
    "{\"email\":1}\n",
    "```"
   ]
  },
  {
   "cell_type": "markdown",
   "metadata": {},
   "source": [
    "```json\n",
    "> db.user.find({\"age\":{$gt:20}},{\"email\":1});\n",
    "{ \"_id\" : 1, \"email\" : \"john@gmail.com\" }\n",
    "{ \"_id\" : 2, \"email\" : \"williamss@gmail.com\" }\n",
    "{ \"_id\" : 3, \"email\" : \"al@hotmail.com\" }\n",
    "{ \"_id\" : 4 }\n",
    "```"
   ]
  },
  {
   "cell_type": "markdown",
   "metadata": {},
   "source": [
    "- relational_row-record-tuple - mongodb_document - name - \\_id - value - 4 - returned [1] \n",
    "\n",
    "```json\n",
    "{ \"_id\" : 4 }\n",
    "```\n",
    "\n",
    "- matched - query [1]\n",
    "\n",
    "```json\n",
    "{\"age\":{$gt:20}}\n",
    "```"
   ]
  },
  {
   "cell_type": "markdown",
   "metadata": {},
   "source": [
    "- **projection** - **similar** **to** - **mysql** - **clause** - **SELECT** [1]\n",
    "\n",
    "\n",
    "- relational_column-attribute-field - mongodb_**attribute** - \\_id - **always** **returned** **unless** **specified** - to **be** **omitted** **in** the - **projection** [1]\n",
    "\n",
    "```json\n",
    "\"_id\":false\n",
    "```"
   ]
  },
  {
   "cell_type": "markdown",
   "metadata": {},
   "source": [
    "```json\n",
    "> db.user.find({\"age\":{$gt:20}},{\"_id\":false,\"email\":1});\n",
    "{ \"email\" : \"john@gmail.com\" }\n",
    "{ \"email\" : \"williamss@gmail.com\" }\n",
    "{ \"email\" : \"al@hotmail.com\" }\n",
    "{  }\n",
    "```"
   ]
  },
  {
   "cell_type": "markdown",
   "metadata": {},
   "source": [
    "- **return** **only** - relational_columns-attributes-fields - mongodb_**attributes** - fname - sname - **of** **all** - relational_rows-records-tuples - mongodb_**documents** - in the - relational_table-entity-relation - mongodb_**collection** - user - **method** - **find** - **parameter** - **query** - **empty** - {} - **match** **all** [1] \n",
    "\n",
    "```json\n",
    "{}\n",
    "```\n",
    "\n",
    "- parameter - projection - not return - relational_column-attribute-field - mongodb_attribute - \\_id [1]\n",
    "\n",
    "```json\n",
    "\"id\":false\n",
    "```\n",
    "\n",
    "- parameter - projection - return - relational_columns-attributes-fields - mongodb_attributes - fname - sname [1]\n",
    "\n",
    "```json\n",
    "\"fname\":1,\"sname\":1\n",
    "```"
   ]
  },
  {
   "cell_type": "markdown",
   "metadata": {},
   "source": [
    "```json\n",
    "> db.user.find({},{\"_id\":false,\"fname\":1,\"sname\":1});\n",
    "{ \"fname\" : \"John\", \"sname\" : \"Smith\" }\n",
    "{ \"fname\" : \"Sean\", \"sname\" : \"Williams\" }\n",
    "{ \"fname\" : \"Albert\", \"sname\" : \"O'Hara\" }\n",
    "{ \"fname\" : \"Mary\", \"sname\" : \"Collins\" }\n",
    "{ \"fname\" : \"Susan\", \"sname\" : \"Hanly\" }\n",
    "```"
   ]
  },
  {
   "cell_type": "markdown",
   "metadata": {},
   "source": [
    "***\n",
    "# END"
   ]
  }
 ],
 "metadata": {
  "kernelspec": {
   "display_name": "Python 3",
   "language": "python",
   "name": "python3"
  },
  "language_info": {
   "codemirror_mode": {
    "name": "ipython",
    "version": 3
   },
   "file_extension": ".py",
   "mimetype": "text/x-python",
   "name": "python",
   "nbconvert_exporter": "python",
   "pygments_lexer": "ipython3",
   "version": "3.7.6"
  }
 },
 "nbformat": 4,
 "nbformat_minor": 4
}

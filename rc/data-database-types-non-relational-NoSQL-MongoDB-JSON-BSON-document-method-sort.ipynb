{
 "cells": [
  {
   "cell_type": "markdown",
   "metadata": {},
   "source": [
    "# data-database-types-non-relational-NoSQL-MongoDB-JSON-BSON-document-method-sort\n",
    "> [TABLE OF CONTENTS](https://nbviewer.jupyter.org/github/SeanOhAileasa/adb-mongodb/blob/main/adb-mongodb.ipynb#top)\n",
    "***"
   ]
  },
  {
   "cell_type": "markdown",
   "metadata": {},
   "source": [
    "- **method** - **sort** - **return** in a **specific** **order** - **parameter** - **query** - that **matches** **existing** - relational_rows-records-tuples - mongodb_**documents** [1]"
   ]
  },
  {
   "cell_type": "markdown",
   "metadata": {},
   "source": [
    "- **when** a **sort** is **performed** on a - relational_column-attribute-field - mongodb_**attribute** - that is **not** **an** **index** - **sorts** the **result** in **memory** [1]"
   ]
  },
  {
   "cell_type": "markdown",
   "metadata": {},
   "source": [
    "- **sort** **result** in **memory** - **consumption** **more** **than** **32MB** of memory - **aborts** the **sort** - to **avoid** this **error** **create** an **index** **supporting** the **sort** **operation** [1]"
   ]
  },
  {
   "cell_type": "markdown",
   "metadata": {},
   "source": [
    "```json\n",
    "> show dbs;\n",
    "admin    0.000GB\n",
    "config   0.000GB\n",
    "demo1    0.000GB\n",
    "local    0.000GB\n",
    "mdb      0.000GB\n",
    "myNewDB  0.000GB\n",
    "```"
   ]
  },
  {
   "cell_type": "markdown",
   "metadata": {},
   "source": [
    "```json\n",
    "> use mdb;\n",
    "switched to db mdb\n",
    "```"
   ]
  },
  {
   "cell_type": "markdown",
   "metadata": {},
   "source": [
    "```json\n",
    "> db;\n",
    "mdb\n",
    "```"
   ]
  },
  {
   "cell_type": "markdown",
   "metadata": {},
   "source": [
    "```json\n",
    "> show collections;\n",
    "mydoc\n",
    "user\n",
    "```"
   ]
  },
  {
   "cell_type": "markdown",
   "metadata": {},
   "source": [
    "```json\n",
    "> db.user.find();\n",
    "{ \"_id\" : 1, \"fname\" : \"John\", \"sname\" : \"Smith\", \"age\" : 22, \"email\" : \"john@gmail.com\" }\n",
    "{ \"_id\" : 2, \"fname\" : \"Sean\", \"sname\" : \"Williams\", \"age\" : 30, \"email\" : \"williamss@gmail.com\" }\n",
    "{ \"_id\" : 3, \"fname\" : \"Albert\", \"sname\" : \"O'Hara\", \"age\" : 27, \"email\" : \"al@hotmail.com\", \"twitter\" : \"@al1234\" } { \"_id\" : 4, \"fname\" : \"Mary\", \"sname\" : \"Collins\", \"age\" : 22 }\n",
    "{ \"_id\" : 5, \"fname\" : \"Susan\", \"sname\" : \"Hanly\", \"age\" : 18, \"email\" : \"susie@hotmail.com\", \"twitter\" : \"@Susi2u\" }\n",
    "```"
   ]
  },
  {
   "cell_type": "markdown",
   "metadata": {},
   "source": [
    "- **return** - relational_rows-records-tuples - mongodb_**documents** - that **have** - relational_column-attribute-field - mongodb_**attribute** - **name** - twitter - **operator** - **exists** - true - in the - relational_table-entity-relation - mongodb_**collection** - user [1]\n",
    "\n",
    "```json\n",
    "db.user.find({\"twitter\":{$exists:true}})\n",
    "```"
   ]
  },
  {
   "cell_type": "markdown",
   "metadata": {},
   "source": [
    "- **return** - relational_rows-records-tuples - mongodb_**documents** - in **ascending** **alphabetically** **order** - relational_column-attribute-field - mongodb_**attribute** - **name** - sname [1]\n",
    "\n",
    "\n",
    "- **within** this **order** - **descend** **by** **order** oldest to youngest - relational_column-attribute-field - mongodb_**attribute** - **name** - age - two people with same surname then the oldest to be returned first [1]\n",
    "\n",
    "\n",
    "- **method** - **sort** - takes as **parameter** - **name** - sname - name - age - as names **to** **sort** **on** - **value** - **1** - indicates **ascending** order - **value** - **minus** **1** - indicated **descending** order [1]\n",
    "\n",
    "```json\n",
    ".sort({\"sname\":1,\"age\":-1})\n",
    "```"
   ]
  },
  {
   "cell_type": "markdown",
   "metadata": {},
   "source": [
    "```json\n",
    "> db.user.find({\"twitter\":{$exists:true}}).sort({\"sname\":1,\"age\":-1});\n",
    "{ \"_id\" : 5, \"fname\" : \"Susan\", \"sname\" : \"Hanly\", \"age\" : 18, \"email\" : \"susie@hotmail.com\", \"twitter\" : \"@Susi2u\" }\n",
    "\n",
    "{ \"_id\" : 3, \"fname\" : \"Albert\", \"sname\" : \"O'Hara\", \"age\" : 27, \"email\" : \"al@hotmail.com\", \"twitter\" : \"@al1234\" }\n",
    "```"
   ]
  },
  {
   "cell_type": "markdown",
   "metadata": {},
   "source": [
    "***\n",
    "# END"
   ]
  }
 ],
 "metadata": {
  "kernelspec": {
   "display_name": "Python 3",
   "language": "python",
   "name": "python3"
  },
  "language_info": {
   "codemirror_mode": {
    "name": "ipython",
    "version": 3
   },
   "file_extension": ".py",
   "mimetype": "text/x-python",
   "name": "python",
   "nbconvert_exporter": "python",
   "pygments_lexer": "ipython3",
   "version": "3.7.6"
  }
 },
 "nbformat": 4,
 "nbformat_minor": 4
}

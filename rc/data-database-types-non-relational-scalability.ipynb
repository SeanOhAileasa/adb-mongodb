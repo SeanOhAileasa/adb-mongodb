{
 "cells": [
  {
   "cell_type": "markdown",
   "metadata": {},
   "source": [
    "# data-database-types-non-relational-scalability\n",
    "> [TABLE OF CONTENTS](https://nbviewer.jupyter.org/github/SeanOhAileasa/adb-mongodb/blob/main/adb-mongodb.ipynb#top)\n",
    "***"
   ]
  },
  {
   "cell_type": "markdown",
   "metadata": {},
   "source": [
    "- **relational** databases - 1970s - **widely** **used** - very **stable** **technology** [1]"
   ]
  },
  {
   "cell_type": "markdown",
   "metadata": {},
   "source": [
    "- **why** **non-relational** databases - **scalability** - the **ability** to **change** in **size** or scale - two-person family living in a house comfortable for both [1]"
   ]
  },
  {
   "cell_type": "markdown",
   "metadata": {},
   "source": [
    "<img src=\"img/04-01-04-01-[6].png\" />"
   ]
  },
  {
   "cell_type": "markdown",
   "metadata": {},
   "source": [
    "- after years the family grows to seven adult people - the house that was comfortable for two people is now crowded - pressure on the limited resources of the house also increases - two solutions if the house becomes unlivable - i) scale up - build an extension - purchase a bigger house [1]"
   ]
  },
  {
   "cell_type": "markdown",
   "metadata": {},
   "source": [
    "<img src=\"img/04-01-04-01-[6]-1.png\" />"
   ]
  },
  {
   "cell_type": "markdown",
   "metadata": {},
   "source": [
    "- ii) scale out - move the family into a number of smaller houses - competition for resources would be less as less people are in each house [1]"
   ]
  },
  {
   "cell_type": "markdown",
   "metadata": {},
   "source": [
    "<img src=\"img/04-01-04-01-[6]-2.png\" />"
   ]
  },
  {
   "cell_type": "markdown",
   "metadata": {},
   "source": [
    "- **relational** databases were **designed** to **store** **relatively** **small** **amounts** of **data** - **designed** to **run** on a **single** **server** - live in same house [1]"
   ]
  },
  {
   "cell_type": "markdown",
   "metadata": {},
   "source": [
    "- **scalability** is a **reason** why - **nosql** **databases** - were **developed** [1]"
   ]
  },
  {
   "cell_type": "markdown",
   "metadata": {},
   "source": [
    "- **today** the amount of **data** is **increasing** **exponentially** - in 2016 IBM Marketing Cloud - 10 key marketing trends for 2017 - reported that 90% of the data in the world had been created in the prior two years alone at 2.5 quintillion bytes of data a day - means **relational** database **size** has to **increase** to hold this extra data - **server** **resources** are **over** **extended** if the amount of data gets beyond a certain point [1]"
   ]
  },
  {
   "cell_type": "markdown",
   "metadata": {},
   "source": [
    "- just like the house analogy - **relational** **databases** - **have** to be **scaled** **up** or **scaled** **out** [1]"
   ]
  },
  {
   "cell_type": "markdown",
   "metadata": {},
   "source": [
    "- **scale** **up** or scale **vertically** means **moving** the **database** to a **bigger** **server** - must buy bigger/complex/expensive hardware with more processing power/memory/storage - upgrades are also a challenge - the organisation must go through a lengthy acquisition process - often have to take the system offline to change to the new server - all this happening as the number of users continues to increase causing more strain and an increased risk on the already overused resources of the database - **another** **problem** to scaling vertically - **limit** **to** **server** **size** [1]"
   ]
  },
  {
   "cell_type": "markdown",
   "metadata": {},
   "source": [
    "<img src=\"img/04-01-04-01-[6]-3.png\" />"
   ]
  },
  {
   "cell_type": "markdown",
   "metadata": {},
   "source": [
    "- **scale** **out** or scale **horizontally** - **split** the **database** **across** **many** **smaller** **servers** [1]"
   ]
  },
  {
   "cell_type": "markdown",
   "metadata": {},
   "source": [
    "- **relational** **databases** - **designed** to **run** on a **single** **server** - **splitting** a relational database **across** **many** **servers** **causes** **problems** [1]"
   ]
  },
  {
   "cell_type": "markdown",
   "metadata": {},
   "source": [
    "<img src=\"img/04-01-04-01-[6]-4.png\" />"
   ]
  },
  {
   "cell_type": "markdown",
   "metadata": {},
   "source": [
    "- **scenario** - **column** - attribute - field - **in** a **server** is **referenced** as a **foreign** **key** in **another** **column** - attribute - field - in **another** **table** - entity - relation [1]"
   ]
  },
  {
   "cell_type": "markdown",
   "metadata": {},
   "source": [
    "- this **table** - entity - relation - **is** **split** **across** **two** **other** **servers** [1]"
   ]
  },
  {
   "cell_type": "markdown",
   "metadata": {},
   "source": [
    "- **foreign** **key** **constraint** - **ON** **DELETE** **CASCADE** - **deleting** **one** **row** - record - tuple - may mean **having** **to** **access** **tables** - entities - relations - **on** **other** **servers** [1]"
   ]
  },
  {
   "cell_type": "markdown",
   "metadata": {},
   "source": [
    "- deleting first those rows - records - tuples - this **operation** could be **dramatically** **affected** by **network** **load** **and** **speed** [1]"
   ]
  },
  {
   "cell_type": "markdown",
   "metadata": {},
   "source": [
    "<img src=\"img/04-01-04-01-[6]-5.png\" />"
   ]
  },
  {
   "cell_type": "markdown",
   "metadata": {},
   "source": [
    "***\n",
    "# END"
   ]
  }
 ],
 "metadata": {
  "kernelspec": {
   "display_name": "Python 3",
   "language": "python",
   "name": "python3"
  },
  "language_info": {
   "codemirror_mode": {
    "name": "ipython",
    "version": 3
   },
   "file_extension": ".py",
   "mimetype": "text/x-python",
   "name": "python",
   "nbconvert_exporter": "python",
   "pygments_lexer": "ipython3",
   "version": "3.7.6"
  }
 },
 "nbformat": 4,
 "nbformat_minor": 4
}

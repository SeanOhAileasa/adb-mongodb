{
 "cells": [
  {
   "cell_type": "markdown",
   "metadata": {},
   "source": [
    "# data-database-types-non-relational-NoSQL-MongoDB-JSON-BSON-document-method-insert\n",
    "> [TABLE OF CONTENTS](https://nbviewer.jupyter.org/github/SeanOhAileasa/adb-mongodb/blob/main/adb-mongodb.ipynb#top)\n",
    "***"
   ]
  },
  {
   "cell_type": "markdown",
   "metadata": {},
   "source": [
    "- **method** - **insert** - **inserts** - relational_rows-records-tuples - mongodb_**documents** - **into** a - relational_table-entity-relation - mongodb_**collection** [1]"
   ]
  },
  {
   "cell_type": "markdown",
   "metadata": {},
   "source": [
    "```json\n",
    "> show databases;\n",
    "admin    0.000GB\n",
    "config   0.000GB\n",
    "demo1    0.000GB\n",
    "local    0.000GB\n",
    "mdb      0.000GB\n",
    "myNewDB  0.000GB\n",
    "```"
   ]
  },
  {
   "cell_type": "markdown",
   "metadata": {},
   "source": [
    "```json\n",
    "> use mdb;\n",
    "switched to db mdb\n",
    "```"
   ]
  },
  {
   "cell_type": "markdown",
   "metadata": {},
   "source": [
    "```json\n",
    "> db;\n",
    "mdb\n",
    "```"
   ]
  },
  {
   "cell_type": "markdown",
   "metadata": {},
   "source": [
    "```json\n",
    "> show collections;\n",
    "mydoc\n",
    "user\n",
    "```"
   ]
  },
  {
   "cell_type": "markdown",
   "metadata": {},
   "source": [
    "```json\n",
    "> db.mydoc.find();\n",
    "{ \"_id\" : 1, \"name\" : \"Tom\", \"age\" : 37 }\n",
    "{ \"_id\" : 2, \"name\" : \"Bill\", \"age\" : 44 }\n",
    "{ \"_id\" : 3, \"name\" : \"Mary\", \"age\" : 29 }\n",
    "{ \"_id\" : 4, \"name\" : \"Susan\", \"age\" : 37 }\n",
    "```"
   ]
  },
  {
   "cell_type": "markdown",
   "metadata": {},
   "source": [
    "- relational_row-record-tuple - mongodb_document [1]\n",
    "\n",
    "```json\n",
    "{\n",
    "    \"_id\":1,\"name\":\"John\",\"age\":24\n",
    "}\n",
    "```\n",
    "\n",
    "```json\n",
    "{\"_id\":1,\"name\":\"John\",\"age\":24}\n",
    "```\n",
    "\n",
    "- **insert** **into** - relational_table-entity-relation - mongodb_**collection** - mydoc - **returns** **error** - **duplicate** **key** **existing** [1]\n",
    "\n",
    "\n",
    "- relational_row-record-tuple - mongodb_**document** - **name** - **underscore** **id** - \\_id - **value** - 1 - **already** **exists** in the - relational_table-entity-relation - mongodb_**collection** - mydoc [1]"
   ]
  },
  {
   "cell_type": "markdown",
   "metadata": {},
   "source": [
    "```json\n",
    "> db.mydoc.insert({\"_id\":1,\"name\":\"John\",\"age\":24});\n",
    "WriteResult({\n",
    "        \"nInserted\" : 0,\n",
    "        \"writeError\" : {\n",
    "                \"code\" : 11000,\n",
    "                \"errmsg\" : \"E11000 duplicate key error collection: mdb.mydoc index: _id_ dup key: { _id: 1.0 }\"\n",
    "        }\n",
    "})\n",
    "```"
   ]
  },
  {
   "cell_type": "markdown",
   "metadata": {},
   "source": [
    "- relational_table-entity-relation - mongodb_**collection** - mydoc - **remains** **unchanged** [1]"
   ]
  },
  {
   "cell_type": "markdown",
   "metadata": {},
   "source": [
    "```json\n",
    "> db.mydoc.find();\n",
    "{ \"_id\" : 1, \"name\" : \"Tom\", \"age\" : 37 }\n",
    "{ \"_id\" : 2, \"name\" : \"Bill\", \"age\" : 44 }\n",
    "{ \"_id\" : 3, \"name\" : \"Mary\", \"age\" : 29 }\n",
    "{ \"_id\" : 4, \"name\" : \"Susan\", \"age\" : 37 }\n",
    "```"
   ]
  },
  {
   "cell_type": "markdown",
   "metadata": {},
   "source": [
    "- **insert** **multiple** - relational_rows-records-tuples - mongodb_**documents** - into a - relational_table-entity-relation - mongodb_**collection** - mydoc - **pass** **into** - **method** - **insert** - using an **array** - relational_rows-records-tuples - mongodb_**documents** [1]\n",
    "\n",
    "```json\n",
    "{\n",
    "    \"_id\":5,\"name\":\"Sean\",\"age\":54\n",
    "}\n",
    "{\n",
    "    \"_id\":6,\"name\":\"Luke\"\n",
    "}\n",
    "```\n",
    "\n",
    "```json\n",
    "{\"_id\":5,\"name\":\"Sean\",\"age\":54},{\"_id\":6,\"name\":\"Luke\"}\n",
    "```\n",
    "\n",
    "- **array** - **ordered** **collection** of **data** - identified by **square** **brackets** [1]\n",
    "\n",
    "\n",
    "- **array** - two elements items - **first** item - **element** is a - relational_row-record-tuple - mongodb_**document** [1]\n",
    "\n",
    "```json\n",
    "{\"_id\":5,\"name\":\"Sean\",\"age\":54}\n",
    "```\n",
    "\n",
    "- **array** - **second** item - **element** is a - relational_row-record-tuple - mongodb_**document** [1]\n",
    "\n",
    "\n",
    "- **mongodb** is a **schemaless** **database** - relational_columns-attributes-fields - mongodb_**attributes** - **do** **not** **have** **to** **be** the **same** [1]\n",
    "\n",
    "```json\n",
    "{\"_id\":6,\"name\":\"Luke\"}\n",
    "```\n",
    "\n",
    "- **elements** in the **array** are **separated** by a **comma** [1]\n",
    "\n",
    "```json\n",
    "[{\"_id\":5,\"name\":\"Sean\",\"age\":54},{\"_id\":6,\"name\":\"Luke\"}]\n",
    "```\n"
   ]
  },
  {
   "cell_type": "markdown",
   "metadata": {},
   "source": [
    "```json\n",
    "> db.mydoc.insert([{\"_id\":5,\"name\":\"Sean\",\"age\":54},{\"_id\":6,\"name\":\"Luke\"}]);\n",
    "WriteResult({ \"nInserted\" : 2 })\n",
    "```"
   ]
  },
  {
   "cell_type": "markdown",
   "metadata": {},
   "source": [
    "```json\n",
    "> db.mydoc.find();\n",
    "{ \"_id\" : 1, \"name\" : \"Tom\", \"age\" : 37 }\n",
    "{ \"_id\" : 2, \"name\" : \"Bill\", \"age\" : 44 }\n",
    "{ \"_id\" : 3, \"name\" : \"Mary\", \"age\" : 29 }\n",
    "{ \"_id\" : 4, \"name\" : \"Susan\", \"age\" : 37 }\n",
    "{ \"_id\" : 5, \"name\" : \"Sean\", \"age\" : 54 }\n",
    "{ \"_id\" : 6, \"name\" : \"Luke\" }\n",
    "```"
   ]
  },
  {
   "cell_type": "markdown",
   "metadata": {},
   "source": [
    "***\n",
    "# END"
   ]
  }
 ],
 "metadata": {
  "kernelspec": {
   "display_name": "Python 3",
   "language": "python",
   "name": "python3"
  },
  "language_info": {
   "codemirror_mode": {
    "name": "ipython",
    "version": 3
   },
   "file_extension": ".py",
   "mimetype": "text/x-python",
   "name": "python",
   "nbconvert_exporter": "python",
   "pygments_lexer": "ipython3",
   "version": "3.7.6"
  }
 },
 "nbformat": 4,
 "nbformat_minor": 4
}

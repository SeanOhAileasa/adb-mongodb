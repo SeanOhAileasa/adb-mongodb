{
 "cells": [
  {
   "cell_type": "markdown",
   "metadata": {},
   "source": [
    "# data-database-types-non-relational-NoSQL-MongoDB-JSON-BSON-document-indexing-method-createIndex\n",
    "> [TABLE OF CONTENTS](https://nbviewer.jupyter.org/github/SeanOhAileasa/adb-mongodb/blob/main/adb-mongodb.ipynb#top)\n",
    "***"
   ]
  },
  {
   "cell_type": "markdown",
   "metadata": {},
   "source": [
    "- **method** - **createIndex** - **create** - **index** - **on** - relational_column-attribute-field - mongodb_**attribute** - **other** **than** - **name** - **underscore** **id** - \\_id [1]"
   ]
  },
  {
   "cell_type": "markdown",
   "metadata": {},
   "source": [
    "```json\n",
    "> show databases;\n",
    "admin    0.000GB\n",
    "config   0.000GB\n",
    "demo1    0.000GB\n",
    "local    0.000GB\n",
    "mdb      0.000GB\n",
    "```"
   ]
  },
  {
   "cell_type": "markdown",
   "metadata": {},
   "source": [
    "```json\n",
    "> use mdb;\n",
    "switched to db mdb\n",
    "```"
   ]
  },
  {
   "cell_type": "markdown",
   "metadata": {},
   "source": [
    "```json\n",
    "> db;\n",
    "mdb\n",
    "```"
   ]
  },
  {
   "cell_type": "markdown",
   "metadata": {},
   "source": [
    "```json\n",
    "> show collections;\n",
    "emp\n",
    "gpa\n",
    "mydoc\n",
    "user\n",
    "```"
   ]
  },
  {
   "cell_type": "markdown",
   "metadata": {},
   "source": [
    "```json\n",
    "> db.user.find();\n",
    "{ \"_id\" : 1, \"fname\" : \"John\", \"sname\" : \"Smith\", \"age\" : 22, \"email\" : \"john@gmail.com\" }\n",
    "{ \"_id\" : 2, \"fname\" : \"Sean\", \"sname\" : \"Williams\", \"age\" : 30, \"email\" : \"williamss@gmail.com\" }\n",
    "{ \"_id\" : 3, \"fname\" : \"Albert\", \"sname\" : \"O'Hara\", \"age\" : 27, \"email\" : \"al@hotmail.com\", \"twitter\" : \"@al1234\" } { \"_id\" : 4, \"fname\" : \"Mary\", \"sname\" : \"Collins\", \"age\" : 22 }\n",
    "{ \"_id\" : 5, \"fname\" : \"Susan\", \"sname\" : \"Hanly\", \"age\" : 18, \"email\" : \"susie@hotmail.com\", \"twitter\" : \"@Susi2u\" }\n",
    "```"
   ]
  },
  {
   "cell_type": "markdown",
   "metadata": {},
   "source": [
    "- **create** - **index** - **ascending** - **on** - relational_column-attribute-field - mongodb_**attribute** - **name** - age [1]\n",
    "\n",
    "\n",
    "- **call** - **method** - **createIndex** - **on** - relational_table-entity-relation - mongodb_**collection** - user [1]\n",
    "\n",
    "```json\n",
    "user.createIndex(\n",
    "```\n",
    "\n",
    "- **pass** **parameter** - relational_column-attribute-field - mongodb_**attribute** - **name** - age [1]\n",
    "\n",
    "```json\n",
    "user.createIndex({\"age\":\n",
    "```\n",
    "\n",
    "- **parameter** - **indicate** **sort** **on** - relational_column-attribute-field - mongodb_**attribute** - value - **ascending** **order** - 1 [1]\n",
    "\n",
    "```json\n",
    "user.createIndex({\"age\":1});\n",
    "```\n",
    "\n",
    "- indicates a successful operation [1]\n",
    "\n",
    "```json\n",
    "\"ok\" : 1\n",
    "```\n",
    "\n",
    "- number of indexes before execution [1]\n",
    "\n",
    "```json\n",
    "\"numIndexesBefore\" : 1\n",
    "```\n",
    "\n",
    "- number of indexes after execution [1]\n",
    "\n",
    "```json\n",
    "\"numIndexesAfter\" : 2\n",
    "```"
   ]
  },
  {
   "cell_type": "markdown",
   "metadata": {},
   "source": [
    "```json\n",
    "> db.user.createIndex({\"age\":1});\n",
    "\n",
    "        \"createdCollectionAutomatically\" : false,\n",
    "        \"numIndexesBefore\" : 1,\n",
    "        \"numIndexesAfter\" : 2,\n",
    "        \"ok\" : 1\n",
    "}\n",
    "```"
   ]
  },
  {
   "cell_type": "markdown",
   "metadata": {},
   "source": [
    "***\n",
    "# END"
   ]
  }
 ],
 "metadata": {
  "kernelspec": {
   "display_name": "Python 3",
   "language": "python",
   "name": "python3"
  },
  "language_info": {
   "codemirror_mode": {
    "name": "ipython",
    "version": 3
   },
   "file_extension": ".py",
   "mimetype": "text/x-python",
   "name": "python",
   "nbconvert_exporter": "python",
   "pygments_lexer": "ipython3",
   "version": "3.7.6"
  }
 },
 "nbformat": 4,
 "nbformat_minor": 4
}

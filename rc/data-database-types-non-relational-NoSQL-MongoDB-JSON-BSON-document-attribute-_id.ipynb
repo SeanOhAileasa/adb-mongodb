{
 "cells": [
  {
   "cell_type": "markdown",
   "metadata": {},
   "source": [
    "# data-database-types-non-relational-NoSQL-MongoDB-JSON-BSON-document-attribute-_id\n",
    "> [TABLE OF CONTENTS](https://nbviewer.jupyter.org/github/SeanOhAileasa/adb-mongodb/blob/main/adb-mongodb.ipynb#top)\n",
    "***"
   ]
  },
  {
   "cell_type": "markdown",
   "metadata": {},
   "source": [
    "- relational_column-attribute-field - mongodb_attribute - **underscore** **id** - \\_id - is the only **mandatory** **part** of a - relational_row_record_tuple - mongodb_**document** - can be any value except an array [1]"
   ]
  },
  {
   "cell_type": "markdown",
   "metadata": {},
   "source": [
    "```json\n",
    "> show dbs;\n",
    "admin    0.000GB\n",
    "config   0.000GB\n",
    "demo1    0.000GB\n",
    "local    0.000GB\n",
    "myNewDB  0.000GB\n",
    "```"
   ]
  },
  {
   "cell_type": "markdown",
   "metadata": {},
   "source": [
    "```json\n",
    "> use myNewDB;\n",
    "switched to db myNewDB\n",
    "```"
   ]
  },
  {
   "cell_type": "markdown",
   "metadata": {},
   "source": [
    "```json\n",
    "> db;\n",
    "myNewDB\n",
    "```"
   ]
  },
  {
   "cell_type": "markdown",
   "metadata": {},
   "source": [
    "```json\n",
    "> show collections;\n",
    "myCollection\n",
    "```"
   ]
  },
  {
   "cell_type": "markdown",
   "metadata": {},
   "source": [
    "- **method** - **save** - relational_row_record_tuple - mongodb_**document** - **save** to the - relational_table-entity-relation - mongodb_**collection** - Test [1]"
   ]
  },
  {
   "cell_type": "markdown",
   "metadata": {},
   "source": [
    "- in the **current** **database** - **indicated** by - **db** [1]"
   ]
  },
  {
   "cell_type": "markdown",
   "metadata": {},
   "source": [
    "- **specifying** two **name**/**value** **pairs** - name - \\_id - value - 1 - name - name - value - Ted [1]"
   ]
  },
  {
   "cell_type": "markdown",
   "metadata": {},
   "source": [
    "```json\n",
    "> db.test.save({\"_id\":1,\"name\":\"Ted\"});\n",
    "WriteResult({ \"nMatched\" : 1, \"nUpserted\" : 0, \"nModified\" : 0 })\n",
    "```"
   ]
  },
  {
   "cell_type": "markdown",
   "metadata": {},
   "source": [
    "```json\n",
    "> show collections;\n",
    "myCollection\n",
    "test\n",
    "```"
   ]
  },
  {
   "cell_type": "markdown",
   "metadata": {},
   "source": [
    "- **method** - **find** - relational_rows_records_tuples - mongodb_**documents** - **name** - **equal** **to** - **value** [1]"
   ]
  },
  {
   "cell_type": "markdown",
   "metadata": {},
   "source": [
    "- value - Ted  - relational_row_record_tuple - mongodb_document - has the same name/value pairs as specified in the method - save [1]"
   ]
  },
  {
   "cell_type": "markdown",
   "metadata": {},
   "source": [
    "```json\n",
    "> db.test.find({\"name\":\"Ted\"});\n",
    "{ \"_id\" : 1, \"name\" : \"Ted\" }\n",
    "```"
   ]
  },
  {
   "cell_type": "markdown",
   "metadata": {},
   "source": [
    "- **method** - **save** - relational_row-record-tuple - mongodb_document - **specifying** **single** - **name**/**value** **pair** - **leaving** **out** the **mandatory** - relational_column-attribute-field - mongodb_**attribute** - **underscore** **id** - \\_id [1]"
   ]
  },
  {
   "cell_type": "markdown",
   "metadata": {},
   "source": [
    "- **underscore** **id** - \\_id - **equal** **to** - **ObjectId** - **bson** - **data** **type** [1]"
   ]
  },
  {
   "cell_type": "markdown",
   "metadata": {},
   "source": [
    "```json\n",
    "> db.test.save({\"name\":\"Billy\"});\n",
    "WriteResult({ \"nInserted\" : 1 })\n",
    "```"
   ]
  },
  {
   "cell_type": "markdown",
   "metadata": {},
   "source": [
    "- **method** - **find** - relational_row-record-tuple - mongodb_document - name - equal to - value - Billy - **attached** - relational_column-attribute-field - mongodb_**attribute** - **underscore** **id** [1]"
   ]
  },
  {
   "cell_type": "markdown",
   "metadata": {},
   "source": [
    "```json\n",
    "> db.test.find({\"name\":\"Billy\"});\n",
    "{ \"_id\" : ObjectId(\"5f0c5a9bff5ed94f8e1dba3d\"), \"name\" : \"Billy\" }\n",
    "```"
   ]
  },
  {
   "cell_type": "markdown",
   "metadata": {},
   "source": [
    "- relational_column-attribute-field - mongodb_**attribute** - **underscore** **id** - \\_id - **like** a **primary** **key** [1]"
   ]
  },
  {
   "cell_type": "markdown",
   "metadata": {},
   "source": [
    "- **each** - relational_row-record-tuple - mongodb_**document** - **stored** **in** a - relational_table-entity-relation - mongodb_**collection** - **requires** the **unique** - relational_column-attribute-field - mongodb_**attribute** - **underscore** **id** - \\_id [1]"
   ]
  },
  {
   "cell_type": "markdown",
   "metadata": {},
   "source": [
    "- **no** - **underscore** **id** - \\_id - **specified** **when** **inserting** a - relational_row-record-tuple - mongodb_**document** - **ObjectId** - **automatically** **generated** **for** the - relational_column-attribute-field - mongodb_**attribute** [1]"
   ]
  },
  {
   "cell_type": "markdown",
   "metadata": {},
   "source": [
    "- **underscore** **id** - \\_id - **analogous** to the **relational** **schema** - **Extra** - **auto_increment** - for a **primary** **key** in **mysql** [1]"
   ]
  },
  {
   "cell_type": "markdown",
   "metadata": {},
   "source": [
    "- do **not** **care** **what** **it** **is** - **once** **its** **unique** [1]"
   ]
  },
  {
   "cell_type": "markdown",
   "metadata": {},
   "source": [
    "***\n",
    "# END"
   ]
  }
 ],
 "metadata": {
  "kernelspec": {
   "display_name": "Python 3",
   "language": "python",
   "name": "python3"
  },
  "language_info": {
   "codemirror_mode": {
    "name": "ipython",
    "version": 3
   },
   "file_extension": ".py",
   "mimetype": "text/x-python",
   "name": "python",
   "nbconvert_exporter": "python",
   "pygments_lexer": "ipython3",
   "version": "3.7.6"
  }
 },
 "nbformat": 4,
 "nbformat_minor": 4
}

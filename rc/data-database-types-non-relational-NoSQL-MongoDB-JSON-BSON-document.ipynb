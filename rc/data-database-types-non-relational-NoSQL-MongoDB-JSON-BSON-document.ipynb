{
 "cells": [
  {
   "cell_type": "markdown",
   "metadata": {},
   "source": [
    "# data-database-types-non-relational-NoSQL-MongoDB-JSON-BSON-document\n",
    "> [TABLE OF CONTENTS](https://nbviewer.jupyter.org/github/SeanOhAileasa/adb-mongodb/blob/main/adb-mongodb.ipynb#top)\n",
    "***"
   ]
  },
  {
   "cell_type": "markdown",
   "metadata": {},
   "source": [
    "- **relational**_**row**-record-tuple - **mongodb**_**document** - in a - **relational**_**table**-entity-relation - **mongodb**_**collection** - is the **basic** **unit** **of** **data** [1]"
   ]
  },
  {
   "cell_type": "markdown",
   "metadata": {},
   "source": [
    "- mongodb_**document** - **analogous** **to** or **equal** **to** - **json** **object** - or - **relational**_**row**-record-tuple in a **rdbms** - relational_row-record-tuple - mongodb_document - five name/value pairs - \\_id - name - house - street - town [1]"
   ]
  },
  {
   "cell_type": "markdown",
   "metadata": {},
   "source": [
    "```json\n",
    "{\n",
    "    \"_id\":ObjectId(\"5919fecf0822ef8ecec132f8\"),\n",
    "    \"name\":\"Ted\",\n",
    "    \"house\":31,\n",
    "    \"street\":\"Main St.\",\n",
    "    \"town\":\"Athenry\"\n",
    "}\n",
    "```\n",
    "\n",
    "```json\n",
    "{\"_id\":ObjectId(\"5919fecf0822ef8ecec132f8\"),\"name\":\"Ted\",\"house\":31,\"street\":\"Main St.\",\"town\":\"Athenry\"}\n",
    "```"
   ]
  },
  {
   "cell_type": "markdown",
   "metadata": {},
   "source": [
    "***\n",
    "# END"
   ]
  }
 ],
 "metadata": {
  "kernelspec": {
   "display_name": "Python 3",
   "language": "python",
   "name": "python3"
  },
  "language_info": {
   "codemirror_mode": {
    "name": "ipython",
    "version": 3
   },
   "file_extension": ".py",
   "mimetype": "text/x-python",
   "name": "python",
   "nbconvert_exporter": "python",
   "pygments_lexer": "ipython3",
   "version": "3.7.6"
  }
 },
 "nbformat": 4,
 "nbformat_minor": 4
}

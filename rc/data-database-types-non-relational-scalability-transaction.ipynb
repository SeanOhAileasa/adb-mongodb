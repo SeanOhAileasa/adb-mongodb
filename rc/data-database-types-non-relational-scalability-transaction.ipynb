{
 "cells": [
  {
   "cell_type": "markdown",
   "metadata": {},
   "source": [
    "# data-database-types-non-relational-scalability-transaction\n",
    "> [TABLE OF CONTENTS](https://nbviewer.jupyter.org/github/SeanOhAileasa/adb-mongodb/blob/main/adb-mongodb.ipynb#top)\n",
    "***"
   ]
  },
  {
   "cell_type": "markdown",
   "metadata": {},
   "source": [
    "- **transaction** - **set** of **related** **operations** that either - **completes** **entirely** - **or** - **fails** **totally** - transaction comprises four steps [1]"
   ]
  },
  {
   "cell_type": "markdown",
   "metadata": {},
   "source": [
    "<img src=\"img/04-01-04-03-[6]-0.png\" />"
   ]
  },
  {
   "cell_type": "markdown",
   "metadata": {},
   "source": [
    "- **if** the four **tables** - entities - relations - **referenced** in the **transaction** are in **different** **servers** - **or** - **each** **referenced** **tables** - entities - relations - **itself** **spread** **across** **multiple** **servers** - major **problem** is **getting** **locks** on the **tables** - entities - relations - and **keeping** **them** [1]"
   ]
  },
  {
   "cell_type": "markdown",
   "metadata": {},
   "source": [
    "- **waiting** for a **lock** on **another** **table** - entity - relation - on **another** **server** - neither **scaling** **vertically** or **horizontally** is a **good** **solution** for an every **expanding** **relational** **database** - albeit **not** **designed** to **cope** with the **amount** of **data** **generated** **nowadays** [1]"
   ]
  },
  {
   "cell_type": "markdown",
   "metadata": {},
   "source": [
    "<img src=\"img/04-01-04-03-[6].png\" />"
   ]
  },
  {
   "cell_type": "markdown",
   "metadata": {},
   "source": [
    "***\n",
    "# END"
   ]
  }
 ],
 "metadata": {
  "kernelspec": {
   "display_name": "Python 3",
   "language": "python",
   "name": "python3"
  },
  "language_info": {
   "codemirror_mode": {
    "name": "ipython",
    "version": 3
   },
   "file_extension": ".py",
   "mimetype": "text/x-python",
   "name": "python",
   "nbconvert_exporter": "python",
   "pygments_lexer": "ipython3",
   "version": "3.7.6"
  }
 },
 "nbformat": 4,
 "nbformat_minor": 4
}

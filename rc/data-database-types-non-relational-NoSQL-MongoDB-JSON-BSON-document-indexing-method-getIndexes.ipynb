{
 "cells": [
  {
   "cell_type": "markdown",
   "metadata": {},
   "source": [
    "# data-database-types-non-relational-NoSQL-MongoDB-JSON-BSON-document-indexing-method-getIndexes\n",
    "> [TABLE OF CONTENTS](https://nbviewer.jupyter.org/github/SeanOhAileasa/adb-mongodb/blob/main/adb-mongodb.ipynb#top)\n",
    "***"
   ]
  },
  {
   "cell_type": "markdown",
   "metadata": {},
   "source": [
    "- **method** - **getIndexes** - **find** **indexes** **on** - relational_table-entity-relation - mongodb_**collection** - **default** - **index** - relational_row-record-tuple - mongodb_**document** - **name** - **underscore** **id** - \\_id [1]"
   ]
  },
  {
   "cell_type": "markdown",
   "metadata": {},
   "source": [
    "```json\n",
    "db.Collection.getIndexes()\n",
    "```"
   ]
  },
  {
   "cell_type": "markdown",
   "metadata": {},
   "source": [
    "- **format** - **index** **field** - **underscore** **id** - \\_id - **order** **of** the **indexes** - **ascending** - **1** - **descending** - **minus** **1** [1]"
   ]
  },
  {
   "cell_type": "markdown",
   "metadata": {},
   "source": [
    "```json\n",
    "\"key\":{\n",
    "    \"_id\":1\n",
    "}\n",
    "```\n",
    "\n",
    "```json\n",
    "\"key\":{\"_id\":1}\n",
    "```"
   ]
  },
  {
   "cell_type": "markdown",
   "metadata": {},
   "source": [
    "```json\n",
    "> show databases;\n",
    "admin    0.000GB\n",
    "config   0.000GB\n",
    "demo1    0.000GB\n",
    "local    0.000GB\n",
    "mdb      0.000GB\n",
    "myNewDB  0.000GB\n",
    "```"
   ]
  },
  {
   "cell_type": "markdown",
   "metadata": {},
   "source": [
    "```json\n",
    "> use mdb;\n",
    "switched to db mdb\n",
    "```"
   ]
  },
  {
   "cell_type": "markdown",
   "metadata": {},
   "source": [
    "```json\n",
    "> db;\n",
    "mdb\n",
    "```"
   ]
  },
  {
   "cell_type": "markdown",
   "metadata": {},
   "source": [
    "```json\n",
    "> show collections;\n",
    "emp\n",
    "gpa\n",
    "mydoc\n",
    "user\n",
    "```"
   ]
  },
  {
   "cell_type": "markdown",
   "metadata": {},
   "source": [
    "- find all indexes - relational_table-entity-relation - mongodb_collection - user - two indexes present - relational_column-attribute-field - mongodb_attribute - name - \\_id - default - ascending order - 1 [1]\n",
    "\n",
    "```json\n",
    "\"_id\" : 1\n",
    "```\n",
    "\n",
    "- relational_column-attribute-field - mongodb_attribute - name - age - index created - method - createIndex [1]\n",
    "\n",
    "```json\n",
    "> db.user.createIndex({\"age\":1});\n",
    "\n",
    "        \"createdCollectionAutomatically\" : false,\n",
    "        \"numIndexesBefore\" : 1,\n",
    "        \"numIndexesAfter\" : 2,\n",
    "        \"ok\" : 1\n",
    "}\n",
    "```\n",
    "\n",
    "- ascending order - 1 [1]\n",
    "\n",
    "```json\n",
    "\"age\" : 1\n",
    "```"
   ]
  },
  {
   "cell_type": "markdown",
   "metadata": {},
   "source": [
    "```json\n",
    "> db.user.getIndexes();\n",
    "\n",
    "        {\n",
    "                \"v\" : 2,\n",
    "                \"key\" : {\n",
    "                        \"_id\" : 1\n",
    "                },\n",
    "                \"name\" : \"_id_\",\n",
    "                \"ns\" : \"mdb.user\"\n",
    "        },\n",
    "        {\n",
    "                \"v\" : 2,\n",
    "                \"key\" : {\n",
    "                        \"age\" : 1\n",
    "                },\n",
    "                \"name\" : \"age_1\",\n",
    "                \"ns\" : \"mdb.user\"\n",
    "        }\n",
    "]\n",
    "```"
   ]
  },
  {
   "cell_type": "markdown",
   "metadata": {},
   "source": [
    "***\n",
    "# END"
   ]
  }
 ],
 "metadata": {
  "kernelspec": {
   "display_name": "Python 3",
   "language": "python",
   "name": "python3"
  },
  "language_info": {
   "codemirror_mode": {
    "name": "ipython",
    "version": 3
   },
   "file_extension": ".py",
   "mimetype": "text/x-python",
   "name": "python",
   "nbconvert_exporter": "python",
   "pygments_lexer": "ipython3",
   "version": "3.7.6"
  }
 },
 "nbformat": 4,
 "nbformat_minor": 4
}

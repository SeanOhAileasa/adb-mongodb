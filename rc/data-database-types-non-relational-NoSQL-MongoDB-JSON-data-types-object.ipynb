{
 "cells": [
  {
   "cell_type": "markdown",
   "metadata": {},
   "source": [
    "# data-database-types-non-relational-NoSQL-MongoDB-JSON-data-types-object\n",
    "> [TABLE OF CONTENTS](https://nbviewer.jupyter.org/github/SeanOhAileasa/adb-mongodb/blob/main/adb-mongodb.ipynb#top)\n",
    "***"
   ]
  },
  {
   "cell_type": "markdown",
   "metadata": {},
   "source": [
    "- **data** **type** - **object** - **objects** can be **stored** **within** **other** **objects** - this object has two name/value pairs - first name - student - with value - G00257854 - second name - address - with **value** **of** **an** **object** - this object has three name/value pairs [1]"
   ]
  },
  {
   "cell_type": "markdown",
   "metadata": {},
   "source": [
    "```json\n",
    "{\n",
    "    \"student\":\"G00257854\",\n",
    "    \"address\":{\n",
    "        \"street\":\"Castle St\",\n",
    "        \"town\":\"Athenry\",\n",
    "        \"county\":\"Galway\"\n",
    "    }\n",
    "}\n",
    "```\n",
    "\n",
    "```json\n",
    "{\"student\":\"G00257854\",\"address\":{\"street\":\"Castle St\",\"town\":\"Athenry\",\"county\":\"Galway\"}}\n",
    "```"
   ]
  },
  {
   "cell_type": "markdown",
   "metadata": {},
   "source": [
    "***\n",
    "# END"
   ]
  }
 ],
 "metadata": {
  "kernelspec": {
   "display_name": "Python 3",
   "language": "python",
   "name": "python3"
  },
  "language_info": {
   "codemirror_mode": {
    "name": "ipython",
    "version": 3
   },
   "file_extension": ".py",
   "mimetype": "text/x-python",
   "name": "python",
   "nbconvert_exporter": "python",
   "pygments_lexer": "ipython3",
   "version": "3.7.6"
  }
 },
 "nbformat": 4,
 "nbformat_minor": 4
}

{
 "cells": [
  {
   "cell_type": "markdown",
   "metadata": {},
   "source": [
    "# data-database-types-non-relational-nosql-mongodb-lab\n",
    "> [TABLE OF CONTENTS](https://nbviewer.jupyter.org/github/SeanOhAileasa/adb-mongodb/blob/main/adb-mongodb.ipynb#top)\n",
    "***"
   ]
  },
  {
   "cell_type": "markdown",
   "metadata": {},
   "source": [
    "### lab-1\n",
    "***"
   ]
  },
  {
   "cell_type": "markdown",
   "metadata": {},
   "source": [
    "- **create a mongodb database - peopleDB** [1]"
   ]
  },
  {
   "cell_type": "markdown",
   "metadata": {},
   "source": [
    "- no database - people - mongodb creates [1]"
   ]
  },
  {
   "cell_type": "markdown",
   "metadata": {},
   "source": [
    "```json\n",
    "> use people\n",
    "switched to db people\n",
    "```"
   ]
  },
  {
   "attachments": {
    "image.png": {
     "image/png": "[encoded data removed]"
    }
   },
   "cell_type": "markdown",
   "metadata": {},
   "source": [
    "- **add the following people to a collection - people - in the database - peopleDB** [1]\n",
    "\t\n",
    "![image.png](attachment:image.png)"
   ]
  },
  {
   "cell_type": "markdown",
   "metadata": {},
   "source": [
    "- no collection - people - mongodb creates [1]"
   ]
  },
  {
   "cell_type": "markdown",
   "metadata": {},
   "source": [
    "- method - save - parameter - object - document [1]"
   ]
  },
  {
   "cell_type": "markdown",
   "metadata": {},
   "source": [
    "```json\n",
    "> db.people.save({_id:\"G103\",Name:\"John\",Age:23,Sex:\"Male\",isStudent:true})\n",
    "WriteResult({ \"nMatched\" : 0, \"nUpserted\" : 1, \"nModified\" : 0, \"_id\" : \"G103\" })\n",
    "\n",
    "\n",
    "> db.people.find();\n",
    "{ \"_id\" : \"G103\", \"Name\" : \"John\", \"Age\" : 23, \"Sex\" : \"Male\", \"isStudent\" : true }\n",
    "```"
   ]
  },
  {
   "cell_type": "markdown",
   "metadata": {},
   "source": [
    "```json\n",
    "> db.people.save({_id:\"D313\",Name:\"Molly\",Age:24})\n",
    "WriteResult({ \"nMatched\" : 0, \"nUpserted\" : 1, \"nModified\" : 0, \"_id\" : \"D313\" })\n",
    "\n",
    "\n",
    "> db.people.find();\n",
    "{ \"_id\" : \"G103\", \"Name\" : \"John\", \"Age\" : 23, \"Sex\" : \"Male\", \"isStudent\" : true }\n",
    "{ \"_id\" : \"D313\", \"Name\" : \"Molly\", \"Age\" : 24 }\n",
    "```"
   ]
  },
  {
   "cell_type": "markdown",
   "metadata": {},
   "source": [
    "```json\n",
    "> db.people.save({_id:\"M234\",Name:\"Ray\",Sex:\"Male\",isStudent:true})\n",
    "WriteResult({ \"nMatched\" : 0, \"nUpserted\" : 1, \"nModified\" : 0, \"_id\" : \"M234\" })\n",
    "> db.people.save({_id:\"M223\",Name:\"Tom\",Age:24,Sex:\"Male\",isStudent:False})\n",
    "2020-08-12T10:26:28.470+0100 E  QUERY    [js] uncaught exception: ReferenceError: False is not defined :\n",
    "@(shell):1:57\n",
    "> db.people.save({_id:\"W989\",Name:\"Mary\",Age:25,Sex:\"Female\"})\n",
    "WriteResult({ \"nMatched\" : 0, \"nUpserted\" : 1, \"nModified\" : 0, \"_id\" : \"W989\" })\n",
    "```"
   ]
  },
  {
   "cell_type": "markdown",
   "metadata": {},
   "source": [
    "- **show all documents in the collection - people** [1]"
   ]
  },
  {
   "cell_type": "markdown",
   "metadata": {},
   "source": [
    "```json\n",
    "> db.people.find({})\n",
    "{ \"_id\" : \"G103\", \"Name\" : \"John\", \"Age\" : 23, \"Sex\" : \"Male\", \"isStudent\" : true }\n",
    "{ \"_id\" : \"D313\", \"Name\" : \"Molly\", \"Age\" : 24 }\n",
    "{ \"_id\" : \"M234\", \"Name\" : \"Ray\", \"Sex\" : \"Male\", \"isStudent\" : true }\n",
    "{ \"_id\" : \"W989\", \"Name\" : \"Mary\", \"Age\" : 25, \"Sex\" : \"Female\" }\n",
    "```"
   ]
  },
  {
   "cell_type": "markdown",
   "metadata": {},
   "source": [
    "```json\n",
    "> db.people.save({_id:\"M223\",Name:\"Tom\",Age:24,Sex:\"Male\",isStudent:false})\n",
    "WriteResult({ \"nMatched\" : 0, \"nUpserted\" : 1, \"nModified\" : 0, \"_id\" : \"M223\" })\n",
    "> db.people.find()\n",
    "{ \"_id\" : \"G103\", \"Name\" : \"John\", \"Age\" : 23, \"Sex\" : \"Male\", \"isStudent\" : true }\n",
    "{ \"_id\" : \"D313\", \"Name\" : \"Molly\", \"Age\" : 24 }\n",
    "{ \"_id\" : \"M234\", \"Name\" : \"Ray\", \"Sex\" : \"Male\", \"isStudent\" : true }\n",
    "{ \"_id\" : \"W989\", \"Name\" : \"Mary\", \"Age\" : 25, \"Sex\" : \"Female\" }\n",
    "{ \"_id\" : \"M223\", \"Name\" : \"Tom\", \"Age\" : 24, \"Sex\" : \"Male\", \"isStudent\" : false }\n",
    "```"
   ]
  },
  {
   "cell_type": "markdown",
   "metadata": {},
   "source": [
    "```json\n",
    "> db.people.find().pretty()\n",
    "\n",
    "        \"_id\" : \"G103\",\n",
    "        \"Name\" : \"John\",\n",
    "        \"Age\" : 23,\n",
    "        \"Sex\" : \"Male\",\n",
    "        \"isStudent\" : true\n",
    "}\n",
    "{ \"_id\" : \"D313\", \"Name\" : \"Molly\", \"Age\" : 24 }\n",
    "{ \"_id\" : \"M234\", \"Name\" : \"Ray\", \"Sex\" : \"Male\", \"isStudent\" : true }\n",
    "{ \"_id\" : \"W989\", \"Name\" : \"Mary\", \"Age\" : 25, \"Sex\" : \"Female\" }\n",
    "\n",
    "        \"_id\" : \"M223\",\n",
    "        \"Name\" : \"Tom\",\n",
    "        \"Age\" : 24,\n",
    "        \"Sex\" : \"Male\",\n",
    "        \"isStudent\" : false\n",
    "}\n",
    "```"
   ]
  },
  {
   "cell_type": "markdown",
   "metadata": {},
   "source": [
    "- **show all males in the collection - people** [1] "
   ]
  },
  {
   "cell_type": "markdown",
   "metadata": {},
   "source": [
    "- method - find - parameter - query - small document - attribute - name - Sex - equal - value - Male [1]"
   ]
  },
  {
   "cell_type": "markdown",
   "metadata": {},
   "source": [
    "[method - find](https://docs.mongodb.com/manual/reference/method/db.collection.find/#definition)"
   ]
  },
  {
   "cell_type": "markdown",
   "metadata": {},
   "source": [
    "```json\n",
    "> db.people.find({Sex:\"Male\"})\n",
    "{ \"_id\" : \"G103\", \"Name\" : \"John\", \"Age\" : 23, \"Sex\" : \"Male\", \"isStudent\" : true }\n",
    "{ \"_id\" : \"M234\", \"Name\" : \"Ray\", \"Sex\" : \"Male\", \"isStudent\" : true }\n",
    "{ \"_id\" : \"M223\", \"Name\" : \"Tom\", \"Age\" : 24, \"Sex\" : \"Male\", \"isStudent\" : false }\n",
    "```"
   ]
  },
  {
   "cell_type": "markdown",
   "metadata": {},
   "source": [
    "- **show all males who have an age attribute** [1]"
   ]
  },
  {
   "cell_type": "markdown",
   "metadata": {},
   "source": [
    "[operator - exists](https://docs.mongodb.com/manual/reference/operator/query/exists/#exists-and-not-equal-to)"
   ]
  },
  {
   "cell_type": "markdown",
   "metadata": {},
   "source": [
    "```json\n",
    "> db.people.find({Sex:\"Male\",Age:{$exists:true}})\n",
    "{ \"_id\" : \"G103\", \"Name\" : \"John\", \"Age\" : 23, \"Sex\" : \"Male\", \"isStudent\" : true }\n",
    "{ \"_id\" : \"M223\", \"Name\" : \"Tom\", \"Age\" : 24, \"Sex\" : \"Male\", \"isStudent\" : false }\n",
    "```"
   ]
  },
  {
   "cell_type": "markdown",
   "metadata": {},
   "source": [
    "[operator - and](https://docs.mongodb.com/manual/reference/operator/query/and/#and-queries-with-multiple-expressions-specifying-the-same-field)"
   ]
  },
  {
   "cell_type": "markdown",
   "metadata": {},
   "source": [
    "```json\n",
    "> db.people.find({$and:[{Sex:\"Male\"},{Age:{$exists:true}}]})\n",
    "{ \"_id\" : \"G103\", \"Name\" : \"John\", \"Age\" : 23, \"Sex\" : \"Male\", \"isStudent\" : true }\n",
    "{ \"_id\" : \"M223\", \"Name\" : \"Tom\", \"Age\" : 24, \"Sex\" : \"Male\", \"isStudent\" : false }\n",
    "```"
   ]
  },
  {
   "cell_type": "markdown",
   "metadata": {},
   "source": [
    "- **show all males and all females** [1]"
   ]
  },
  {
   "cell_type": "markdown",
   "metadata": {},
   "source": [
    "```json\n",
    "> db.people.find({$or:[{Sex:\"Male\"},{Sex:\"Female\"}]})\n",
    "{ \"_id\" : \"G103\", \"Name\" : \"John\", \"Age\" : 23, \"Sex\" : \"Male\", \"isStudent\" : true }\n",
    "{ \"_id\" : \"M234\", \"Name\" : \"Ray\", \"Sex\" : \"Male\", \"isStudent\" : true }\n",
    "{ \"_id\" : \"W989\", \"Name\" : \"Mary\", \"Age\" : 25, \"Sex\" : \"Female\" }\n",
    "{ \"_id\" : \"M223\", \"Name\" : \"Tom\", \"Age\" : 24, \"Sex\" : \"Male\", \"isStudent\" : false }\n",
    "```"
   ]
  },
  {
   "cell_type": "markdown",
   "metadata": {},
   "source": [
    "- **show all males student and all females** [1]"
   ]
  },
  {
   "cell_type": "markdown",
   "metadata": {},
   "source": [
    "```json\n",
    "$or:[{Sex:\"Female\"},{$and:[{Sex\"Male\"},{isStudent:true}]}]\n",
    "```\n",
    "- condition - return document - whereby attribute - name - Sex - equals - value - Female [1]\n",
    "\n",
    "```json\n",
    "{Sex:\"Female\"}\n",
    "```\n",
    "- operator - or - condition - return document - whereby attribute - name - Sex - equals - value - Male - operator - and - attribute - name - isStudent - equal - value - true [1]\n",
    "\n",
    "```json\n",
    "{$and:[{Sex\"Male\"},{isStudent:true}]}\n",
    "```"
   ]
  },
  {
   "cell_type": "markdown",
   "metadata": {},
   "source": [
    "```json\n",
    "> db.people.find({$or:[{Sex:\"Female\"},{$and:[{Sex:\"Male\"},{isStudent:true}]}]})\n",
    "{ \"_id\" : \"G103\", \"Name\" : \"John\", \"Age\" : 23, \"Sex\" : \"Male\", \"isStudent\" : true }\n",
    "{ \"_id\" : \"M234\", \"Name\" : \"Ray\", \"Sex\" : \"Male\", \"isStudent\" : true }\n",
    "{ \"_id\" : \"W989\", \"Name\" : \"Mary\", \"Age\" : 25, \"Sex\" : \"Female\" }\n",
    "```"
   ]
  },
  {
   "attachments": {
    "image.png": {
     "image/png": "[encoded data removed]"
    }
   },
   "cell_type": "markdown",
   "metadata": {},
   "source": [
    "- **add a new document to the collection - people** [1]\n",
    "\n",
    "![image.png](attachment:image.png)"
   ]
  },
  {
   "cell_type": "markdown",
   "metadata": {},
   "source": [
    "```json\n",
    "> db.people.save({_id:\"Q477\",Name:\"Billy\",Age:29,email:\"Billy477@gmail.com\"})\n",
    "WriteResult({ \"nMatched\" : 0, \"nUpserted\" : 1, \"nModified\" : 0, \"_id\" : \"Q477\" })\n",
    "> db.people.find()\n",
    "{ \"_id\" : \"G103\", \"Name\" : \"John\", \"Age\" : 23, \"Sex\" : \"Male\", \"isStudent\" : true }\n",
    "{ \"_id\" : \"D313\", \"Name\" : \"Molly\", \"Age\" : 24 }\n",
    "{ \"_id\" : \"M234\", \"Name\" : \"Ray\", \"Sex\" : \"Male\", \"isStudent\" : true }\n",
    "{ \"_id\" : \"W989\", \"Name\" : \"Mary\", \"Age\" : 25, \"Sex\" : \"Female\" }\n",
    "{ \"_id\" : \"M223\", \"Name\" : \"Tom\", \"Age\" : 24, \"Sex\" : \"Male\", \"isStudent\" : false }\n",
    "{ \"_id\" : \"Q477\", \"Name\" : \"Billy\", \"Age\" : 29, \"email\" : \"Billy477@gmail.com\" }\n",
    "```"
   ]
  },
  {
   "cell_type": "markdown",
   "metadata": {},
   "source": [
    "- **add the following attribute to the document just updated** [1]"
   ]
  },
  {
   "attachments": {
    "image.png": {
     "image/png": "[encoded data removed]"
    }
   },
   "cell_type": "markdown",
   "metadata": {},
   "source": [
    "![image.png](attachment:image.png)"
   ]
  },
  {
   "cell_type": "markdown",
   "metadata": {},
   "source": [
    "[method - update](https://docs.mongodb.com/manual/reference/method/db.collection.update/#definition)"
   ]
  },
  {
   "cell_type": "markdown",
   "metadata": {},
   "source": [
    "- did not just add the attribute - twitter - to the document - with \\_id Q447 - replaced all whole document except the attributes - \\_id - twitter [1] "
   ]
  },
  {
   "cell_type": "markdown",
   "metadata": {},
   "source": [
    "```json\n",
    "> db.people.update({_id:\"Q477\"},{twitter:\"@billy477\"})\n",
    "WriteResult({ \"nMatched\" : 1, \"nUpserted\" : 0, \"nModified\" : 1 })\n",
    "> db.people.find()\n",
    "{ \"_id\" : \"G103\", \"Name\" : \"John\", \"Age\" : 23, \"Sex\" : \"Male\", \"isStudent\" : true }\n",
    "{ \"_id\" : \"D313\", \"Name\" : \"Molly\", \"Age\" : 24 }\n",
    "{ \"_id\" : \"M234\", \"Name\" : \"Ray\", \"Sex\" : \"Male\", \"isStudent\" : true }\n",
    "{ \"_id\" : \"W989\", \"Name\" : \"Mary\", \"Age\" : 25, \"Sex\" : \"Female\" }\n",
    "{ \"_id\" : \"M223\", \"Name\" : \"Tom\", \"Age\" : 24, \"Sex\" : \"Male\", \"isStudent\" : false }\n",
    "{ \"_id\" : \"Q477\", \"twitter\" : \"@billy477\" }\n",
    "```"
   ]
  },
  {
   "cell_type": "markdown",
   "metadata": {},
   "source": [
    "```json\n",
    "> db.people.save({_id:\"Q477\",Name:\"Billy\",Age:29,email:\"Billy477@gmail.com\"})\n",
    "WriteResult({ \"nMatched\" : 1, \"nUpserted\" : 0, \"nModified\" : 1 })\n",
    "> db.people.find()\n",
    "{ \"_id\" : \"G103\", \"Name\" : \"John\", \"Age\" : 23, \"Sex\" : \"Male\", \"isStudent\" : true }\n",
    "{ \"_id\" : \"D313\", \"Name\" : \"Molly\", \"Age\" : 24 }\n",
    "{ \"_id\" : \"M234\", \"Name\" : \"Ray\", \"Sex\" : \"Male\", \"isStudent\" : true }\n",
    "{ \"_id\" : \"W989\", \"Name\" : \"Mary\", \"Age\" : 25, \"Sex\" : \"Female\" }\n",
    "{ \"_id\" : \"M223\", \"Name\" : \"Tom\", \"Age\" : 24, \"Sex\" : \"Male\", \"isStudent\" : false }\n",
    "{ \"_id\" : \"Q477\", \"Name\" : \"Billy\", \"Age\" : 29, \"email\" : \"Billy477@gmail.com\" }\n",
    "```"
   ]
  },
  {
   "cell_type": "markdown",
   "metadata": {},
   "source": [
    "[operator - set](https://docs.mongodb.com/manual/reference/operator/update/set/#set)"
   ]
  },
  {
   "cell_type": "markdown",
   "metadata": {},
   "source": [
    "```json\n",
    "> db.people.update({_id:\"Q477\"},{$set:{twitter:\"@billy477\"}})\n",
    "WriteResult({ \"nMatched\" : 1, \"nUpserted\" : 0, \"nModified\" : 1 })\n",
    "> db.people.find()\n",
    "{ \"_id\" : \"G103\", \"Name\" : \"John\", \"Age\" : 23, \"Sex\" : \"Male\", \"isStudent\" : true }\n",
    "{ \"_id\" : \"D313\", \"Name\" : \"Molly\", \"Age\" : 24 }\n",
    "{ \"_id\" : \"M234\", \"Name\" : \"Ray\", \"Sex\" : \"Male\", \"isStudent\" : true }\n",
    "{ \"_id\" : \"W989\", \"Name\" : \"Mary\", \"Age\" : 25, \"Sex\" : \"Female\" }\n",
    "{ \"_id\" : \"M223\", \"Name\" : \"Tom\", \"Age\" : 24, \"Sex\" : \"Male\", \"isStudent\" : false }\n",
    "{ \"_id\" : \"Q477\", \"Name\" : \"Billy\", \"Age\" : 29, \"email\" : \"Billy477@gmail.com\", \"twitter\" : \"@billy477\" }\n",
    "```"
   ]
  },
  {
   "cell_type": "markdown",
   "metadata": {},
   "source": [
    "- **increase peoples age - where appropriate - by 1** [1]"
   ]
  },
  {
   "cell_type": "markdown",
   "metadata": {},
   "source": [
    "- check if the attribute - age - exists [1]"
   ]
  },
  {
   "cell_type": "markdown",
   "metadata": {},
   "source": [
    "[operator - exists](https://docs.mongodb.com/manual/reference/operator/query/exists/#exists-and-not-equal-to)"
   ]
  },
  {
   "cell_type": "markdown",
   "metadata": {},
   "source": [
    "```json\n",
    "> db.people.find({Age:{$exists:true}})\n",
    "{ \"_id\" : \"G103\", \"Name\" : \"John\", \"Age\" : 23, \"Sex\" : \"Male\", \"isStudent\" : true }\n",
    "{ \"_id\" : \"D313\", \"Name\" : \"Molly\", \"Age\" : 24 }\n",
    "{ \"_id\" : \"W989\", \"Name\" : \"Mary\", \"Age\" : 25, \"Sex\" : \"Female\" }\n",
    "{ \"_id\" : \"M223\", \"Name\" : \"Tom\", \"Age\" : 24, \"Sex\" : \"Male\", \"isStudent\" : false }\n",
    "{ \"_id\" : \"Q477\", \"Name\" : \"Billy\", \"Age\" : 29, \"email\" : \"Billy477@gmail.com\", \"twitter\" : \"@billy477\" }\n",
    "```"
   ]
  },
  {
   "cell_type": "markdown",
   "metadata": {},
   "source": [
    "[operator - inc](https://docs.mongodb.com/manual/reference/operator/update/inc/#definition)"
   ]
  },
  {
   "cell_type": "markdown",
   "metadata": {},
   "source": [
    "- method - update - executes - default - only on the first document that matches the query [1]"
   ]
  },
  {
   "cell_type": "markdown",
   "metadata": {},
   "source": [
    "```json\n",
    "> db.people.update({Age:{$exists:true}},{$inc:{Age:1}})\n",
    "WriteResult({ \"nMatched\" : 1, \"nUpserted\" : 0, \"nModified\" : 1 })\n",
    "> db.people.find()\n",
    "{ \"_id\" : \"G103\", \"Name\" : \"John\", \"Age\" : 24, \"Sex\" : \"Male\", \"isStudent\" : true }\n",
    "{ \"_id\" : \"D313\", \"Name\" : \"Molly\", \"Age\" : 24 }\n",
    "{ \"_id\" : \"M234\", \"Name\" : \"Ray\", \"Sex\" : \"Male\", \"isStudent\" : true }\n",
    "{ \"_id\" : \"W989\", \"Name\" : \"Mary\", \"Age\" : 25, \"Sex\" : \"Female\" }\n",
    "{ \"_id\" : \"M223\", \"Name\" : \"Tom\", \"Age\" : 24, \"Sex\" : \"Male\", \"isStudent\" : false }\n",
    "{ \"_id\" : \"Q477\", \"Name\" : \"Billy\", \"Age\" : 29, \"email\" : \"Billy477@gmail.com\", \"twitter\" : \"@billy477\" }\n",
    "```"
   ]
  },
  {
   "cell_type": "markdown",
   "metadata": {},
   "source": [
    "[method - update - parameter - options](https://docs.mongodb.com/manual/reference/method/db.collection.update/#update-multi)"
   ]
  },
  {
   "cell_type": "markdown",
   "metadata": {},
   "source": [
    "```json\n",
    "> db.people.save({_id:\"G103\",Name:\"John\",Age:23,Sex:\"Male\",\"isStudent\":true})\n",
    "WriteResult({ \"nMatched\" : 1, \"nUpserted\" : 0, \"nModified\" : 1 })\n",
    "> db.people.find()\n",
    "{ \"_id\" : \"G103\", \"Name\" : \"John\", \"Age\" : 23, \"Sex\" : \"Male\", \"isStudent\" : true }\n",
    "{ \"_id\" : \"D313\", \"Name\" : \"Molly\", \"Age\" : 24 }\n",
    "{ \"_id\" : \"M234\", \"Name\" : \"Ray\", \"Sex\" : \"Male\", \"isStudent\" : true }\n",
    "{ \"_id\" : \"W989\", \"Name\" : \"Mary\", \"Age\" : 25, \"Sex\" : \"Female\" }\n",
    "{ \"_id\" : \"M223\", \"Name\" : \"Tom\", \"Age\" : 24, \"Sex\" : \"Male\", \"isStudent\" : false }\n",
    "{ \"_id\" : \"Q477\", \"Name\" : \"Billy\", \"Age\" : 29, \"email\" : \"Billy477@gmail.com\", \"twitter\" : \"@billy477\" }\n",
    "```"
   ]
  },
  {
   "cell_type": "markdown",
   "metadata": {},
   "source": [
    "```json\n",
    "> db.people.find()\n",
    "{ \"_id\" : \"G103\", \"Name\" : \"John\", \"Age\" : 24, \"Sex\" : \"Male\", \"isStudent\" : true }\n",
    "{ \"_id\" : \"D313\", \"Name\" : \"Molly\", \"Age\" : 25 }\n",
    "{ \"_id\" : \"M234\", \"Name\" : \"Ray\", \"Sex\" : \"Male\", \"isStudent\" : true }\n",
    "{ \"_id\" : \"W989\", \"Name\" : \"Mary\", \"Age\" : 26, \"Sex\" : \"Female\" }\n",
    "{ \"_id\" : \"M223\", \"Name\" : \"Tom\", \"Age\" : 25, \"Sex\" : \"Male\", \"isStudent\" : false }\n",
    "{ \"_id\" : \"Q477\", \"Name\" : \"Billy\", \"Age\" : 30, \"email\" : \"Billy477@gmail.com\", \"twitter\" : \"@billy477\" }\n",
    "```"
   ]
  },
  {
   "cell_type": "markdown",
   "metadata": {},
   "source": [
    "[method - updateMany](https://docs.mongodb.com/manual/reference/method/db.collection.updateMany/#definition)"
   ]
  },
  {
   "cell_type": "markdown",
   "metadata": {},
   "source": [
    "```json\n",
    "> db.people.updateMany({Age:{$exists:true}},{$inc:{Age:1}})\n",
    "{ \"acknowledged\" : true, \"matchedCount\" : 5, \"modifiedCount\" : 5 }\n",
    "> db.people.find()\n",
    "{ \"_id\" : \"G103\", \"Name\" : \"John\", \"Age\" : 25, \"Sex\" : \"Male\", \"isStudent\" : true }\n",
    "{ \"_id\" : \"D313\", \"Name\" : \"Molly\", \"Age\" : 26 }\n",
    "{ \"_id\" : \"M234\", \"Name\" : \"Ray\", \"Sex\" : \"Male\", \"isStudent\" : true }\n",
    "{ \"_id\" : \"W989\", \"Name\" : \"Mary\", \"Age\" : 27, \"Sex\" : \"Female\" }\n",
    "{ \"_id\" : \"M223\", \"Name\" : \"Tom\", \"Age\" : 26, \"Sex\" : \"Male\", \"isStudent\" : false }\n",
    "{ \"_id\" : \"Q477\", \"Name\" : \"Billy\", \"Age\" : 31, \"email\" : \"Billy477@gmail.com\", \"twitter\" : \"@billy477\" }\n",
    "```"
   ]
  },
  {
   "cell_type": "markdown",
   "metadata": {},
   "source": [
    "***\n",
    "### END-lab-1"
   ]
  },
  {
   "cell_type": "markdown",
   "metadata": {},
   "source": [
    "### lab-2\n",
    "***"
   ]
  },
  {
   "cell_type": "markdown",
   "metadata": {},
   "source": [
    "- **import file demo1** [1]"
   ]
  },
  {
   "cell_type": "markdown",
   "metadata": {},
   "source": [
    "```json\n",
    "> show dbs\n",
    "admin     0.000GB\n",
    "config    0.000GB\n",
    "demo1     0.000GB\n",
    "local     0.000GB\n",
    "mdb       0.000GB\n",
    "mongo     0.000GB\n",
    "myNewDB   0.000GB\n",
    "mydemo    0.000GB\n",
    "people    0.000GB\n",
    "proj20DB  0.000GB\n",
    "> use mydemo\n",
    "switched to db mydemo\n",
    "> show collections\n",
    "docs\n",
    "> db.docs.find()\n",
    "{ \"_id\" : \"G00123456\", \"fname\" : \"Mary\", \"surname\" : \"O'Neill\", \"age\" : 23, \"sex\" : \"F\" }\n",
    "{ \"_id\" : \"G00897678\", \"fname\" : \"Orla\", \"surname\" : \"McNicholas\", \"age\" : 29, \"sex\" : \"F\" }\n",
    "{ \"_id\" : \"G00111555\", \"fname\" : \"Tom\", \"surname\" : \"Hughes\", \"age\" : 21, \"sex\" : \"M\" }\n",
    "{ \"_id\" : \"G00123488\", \"fname\" : \"Sean\", \"surname\" : \"Murphy\" }\n",
    "{ \"_id\" : \"G00111333\", \"fname\" : \"Bill\", \"surname\" : \"Murphy\", \"age\" : 30, \"sex\" : \"M\" }\n",
    "{ \"_id\" : \"G00111789\", \"fname\" : \"Tom\", \"surname\" : \"McNamara\", \"age\" : 21, \"sex\" : \"M\" }\n",
    "{ \"_id\" : \"G00111444\", \"fname\" : \"Alice\", \"surname\" : \"Collins\", \"age\" : 33, \"sex\" : \"F\" }\n",
    "{ \"_id\" : \"G00333588\", \"fname\" : \"Shane\", \"surname\" : \"Collins\", \"age\" : 21, \"sex\" : \"M\" }\n",
    "{ \"_id\" : \"G00111222\", \"fname\" : \"Bill\", \"surname\" : \"Collins\", \"age\" : 29, \"sex\" : \"M\" }\n",
    "```"
   ]
  },
  {
   "cell_type": "markdown",
   "metadata": {},
   "source": [
    "- **show only the surname field of all documents** [1]"
   ]
  },
  {
   "cell_type": "markdown",
   "metadata": {},
   "source": [
    "[method - find](https://docs.mongodb.com/manual/reference/method/db.collection.find/#definition)"
   ]
  },
  {
   "cell_type": "markdown",
   "metadata": {},
   "source": [
    "```json\n",
    "> db.docs.find({},{surname:true})\n",
    "{ \"_id\" : \"G00123456\", \"surname\" : \"O'Neill\" }\n",
    "{ \"_id\" : \"G00111555\", \"surname\" : \"Hughes\" }\n",
    "{ \"_id\" : \"G00123488\", \"surname\" : \"Murphy\" }\n",
    "{ \"_id\" : \"G00111789\", \"surname\" : \"McNamara\" }\n",
    "{ \"_id\" : \"G00333588\", \"surname\" : \"Collins\" }\n",
    "{ \"_id\" : \"G00111222\", \"surname\" : \"Collins\" }\n",
    "{ \"_id\" : \"G00897678\", \"surname\" : \"McNicholas\" }\n",
    "{ \"_id\" : \"G00111333\", \"surname\" : \"Murphy\" }\n",
    "{ \"_id\" : \"G00111444\", \"surname\" : \"Collins\" }\n",
    "> db.docs.find({},{surname:1})\n",
    "{ \"_id\" : \"G00123456\", \"surname\" : \"O'Neill\" }\n",
    "{ \"_id\" : \"G00111555\", \"surname\" : \"Hughes\" }\n",
    "{ \"_id\" : \"G00123488\", \"surname\" : \"Murphy\" }\n",
    "{ \"_id\" : \"G00111789\", \"surname\" : \"McNamara\" }\n",
    "{ \"_id\" : \"G00333588\", \"surname\" : \"Collins\" }\n",
    "{ \"_id\" : \"G00111222\", \"surname\" : \"Collins\" }\n",
    "{ \"_id\" : \"G00897678\", \"surname\" : \"McNicholas\" }\n",
    "{ \"_id\" : \"G00111333\", \"surname\" : \"Murphy\" }\n",
    "{ \"_id\" : \"G00111444\", \"surname\" : \"Collins\" }\n",
    "```"
   ]
  },
  {
   "cell_type": "markdown",
   "metadata": {},
   "source": [
    "```json\n",
    "> db.docs.find({},{_id:0,surname:1})\n",
    "{ \"surname\" : \"O'Neill\" }\n",
    "{ \"surname\" : \"Hughes\" }\n",
    "{ \"surname\" : \"Murphy\" }\n",
    "{ \"surname\" : \"McNamara\" }\n",
    "{ \"surname\" : \"Collins\" }\n",
    "{ \"surname\" : \"Collins\" }\n",
    "{ \"surname\" : \"McNicholas\" }\n",
    "{ \"surname\" : \"Murphy\" }\n",
    "{ \"surname\" : \"Collins\" }\n",
    "```"
   ]
  },
  {
   "cell_type": "markdown",
   "metadata": {},
   "source": [
    "- **show only the fname and surname fields of all people aged 21 or older - sort the result in ascending surname and within surname on descending fname order** [1]"
   ]
  },
  {
   "cell_type": "markdown",
   "metadata": {},
   "source": [
    "- all people aged 21 or older [1]"
   ]
  },
  {
   "cell_type": "markdown",
   "metadata": {},
   "source": [
    "```json\n",
    "> db.docs.find({age:{$gt:20}})\n",
    "{ \"_id\" : \"G00123456\", \"fname\" : \"Mary\", \"surname\" : \"O'Neill\", \"age\" : 23, \"sex\" : \"F\" }\n",
    "{ \"_id\" : \"G00111555\", \"fname\" : \"Tom\", \"surname\" : \"Hughes\", \"age\" : 21, \"sex\" : \"M\" }\n",
    "{ \"_id\" : \"G00111789\", \"fname\" : \"Tom\", \"surname\" : \"McNamara\", \"age\" : 21, \"sex\" : \"M\" }\n",
    "{ \"_id\" : \"G00333588\", \"fname\" : \"Shane\", \"surname\" : \"Collins\", \"age\" : 21, \"sex\" : \"M\" }\n",
    "{ \"_id\" : \"G00111222\", \"fname\" : \"Bill\", \"surname\" : \"Collins\", \"age\" : 29, \"sex\" : \"M\" }\n",
    "{ \"_id\" : \"G00897678\", \"fname\" : \"Orla\", \"surname\" : \"McNicholas\", \"age\" : 29, \"sex\" : \"F\" }\n",
    "{ \"_id\" : \"G00111333\", \"fname\" : \"Bill\", \"surname\" : \"Murphy\", \"age\" : 30, \"sex\" : \"M\" }\n",
    "{ \"_id\" : \"G00111444\", \"fname\" : \"Alice\", \"surname\" : \"Collins\", \"age\" : 33, \"sex\" : \"F\" }\n",
    "```"
   ]
  },
  {
   "cell_type": "markdown",
   "metadata": {},
   "source": [
    "- only show fname and surname - add projection [1]"
   ]
  },
  {
   "cell_type": "markdown",
   "metadata": {},
   "source": [
    "```json\n",
    "> db.docs.find({age:{$gt:20}},{_id:0,fname:1,surname:1})\n",
    "{ \"fname\" : \"Mary\", \"surname\" : \"O'Neill\" }\n",
    "{ \"fname\" : \"Tom\", \"surname\" : \"Hughes\" }\n",
    "{ \"fname\" : \"Tom\", \"surname\" : \"McNamara\" }\n",
    "{ \"fname\" : \"Shane\", \"surname\" : \"Collins\" }\n",
    "{ \"fname\" : \"Bill\", \"surname\" : \"Collins\" }\n",
    "{ \"fname\" : \"Orla\", \"surname\" : \"McNicholas\" }\n",
    "{ \"fname\" : \"Bill\", \"surname\" : \"Murphy\" }\n",
    "{ \"fname\" : \"Alice\", \"surname\" : \"Collins\" }\n",
    "```"
   ]
  },
  {
   "cell_type": "markdown",
   "metadata": {},
   "source": [
    "- sort results in ascending surname and within surname on descending fname order [1]"
   ]
  },
  {
   "cell_type": "markdown",
   "metadata": {},
   "source": [
    "```json\n",
    "> db.docs.find({age:{$gt:20}},{_id:0,fname:1,surname:1}).sort({surname:1})\n",
    "{ \"fname\" : \"Shane\", \"surname\" : \"Collins\" }\n",
    "{ \"fname\" : \"Bill\", \"surname\" : \"Collins\" }\n",
    "{ \"fname\" : \"Alice\", \"surname\" : \"Collins\" }\n",
    "{ \"fname\" : \"Tom\", \"surname\" : \"Hughes\" }\n",
    "{ \"fname\" : \"Tom\", \"surname\" : \"McNamara\" }\n",
    "{ \"fname\" : \"Orla\", \"surname\" : \"McNicholas\" }\n",
    "{ \"fname\" : \"Bill\", \"surname\" : \"Murphy\" }\n",
    "{ \"fname\" : \"Mary\", \"surname\" : \"O'Neill\" }\n",
    "```"
   ]
  },
  {
   "cell_type": "markdown",
   "metadata": {},
   "source": [
    "```json\n",
    "> db.docs.find({age:{$gt:20}},{_id:0,fname:1,surname:1}).sort({surname:1,fname:-1})\n",
    "{ \"fname\" : \"Shane\", \"surname\" : \"Collins\" }\n",
    "{ \"fname\" : \"Bill\", \"surname\" : \"Collins\" }\n",
    "{ \"fname\" : \"Alice\", \"surname\" : \"Collins\" }\n",
    "{ \"fname\" : \"Tom\", \"surname\" : \"Hughes\" }\n",
    "{ \"fname\" : \"Tom\", \"surname\" : \"McNamara\" }\n",
    "{ \"fname\" : \"Orla\", \"surname\" : \"McNicholas\" }\n",
    "{ \"fname\" : \"Bill\", \"surname\" : \"Murphy\" }\n",
    "{ \"fname\" : \"Mary\", \"surname\" : \"O'Neill\" }\n",
    "```"
   ]
  },
  {
   "cell_type": "markdown",
   "metadata": {},
   "source": [
    "- **what is the name and the type of index on the collection** [1]"
   ]
  },
  {
   "cell_type": "markdown",
   "metadata": {},
   "source": [
    "- one index - ascending on - name - \\_id [1]"
   ]
  },
  {
   "cell_type": "markdown",
   "metadata": {},
   "source": [
    "```json\n",
    "> db.docs.getIndexes()\n",
    "\n",
    "        {\n",
    "                \"v\" : 2,\n",
    "                \"key\" : {\n",
    "                        \"_id\" : 1\n",
    "                },\n",
    "                \"name\" : \"_id_\",\n",
    "                \"ns\" : \"demo1.docs\"\n",
    "        }\n",
    "]\n",
    "```"
   ]
  },
  {
   "cell_type": "markdown",
   "metadata": {},
   "source": [
    "- **show the combined age of everyone in the collection as \"Total Age\"** [1]"
   ]
  },
  {
   "cell_type": "markdown",
   "metadata": {},
   "source": [
    "[method - aggregate](https://docs.mongodb.com/manual/reference/method/db.collection.aggregate/index.html#definition)"
   ]
  },
  {
   "cell_type": "markdown",
   "metadata": {},
   "source": [
    "- method - aggregate - one parameter - array [1]\n",
    "\n",
    "```json\n",
    "[{$group:{_id:null,\"Total Age\":{$sum:\"$age\"}}}]\n",
    "```"
   ]
  },
  {
   "cell_type": "markdown",
   "metadata": {},
   "source": [
    "[method - aggregate - pipeline - operators](https://docs.mongodb.com/manual/reference/operator/aggregation-pipeline/#aggregation-pipeline-stages)"
   ]
  },
  {
   "cell_type": "markdown",
   "metadata": {},
   "source": [
    "- perform - aggregation - combined age of everyone - group the age [1]"
   ]
  },
  {
   "cell_type": "markdown",
   "metadata": {},
   "source": [
    "[method - aggregate - pipeline - operator - group](https://docs.mongodb.com/manual/reference/operator/aggregation/group/#definition)"
   ]
  },
  {
   "cell_type": "markdown",
   "metadata": {},
   "source": [
    "- pipeline - stage - group - first and only document in the array - must specify - mandatory - \\_id [1]\n",
    "\n",
    "```json\n",
    "{$group:{_id:null,\"Total Age\":{$sum:\"$age\"}}}\n",
    "````"
   ]
  },
  {
   "cell_type": "markdown",
   "metadata": {},
   "source": [
    "[method - aggregate - pipeline - operator - accumulator](https://docs.mongodb.com/manual/reference/operator/aggregation/group/#considerations)"
   ]
  },
  {
   "cell_type": "markdown",
   "metadata": {},
   "source": [
    "[method - aggreate - pipeline - operator - accumulator - sum](https://docs.mongodb.com/manual/reference/operator/aggregation/sum/#definition)"
   ]
  },
  {
   "cell_type": "markdown",
   "metadata": {},
   "source": [
    "```json\n",
    "> db.docs.aggregate([{$group:{_id:null,\"Total Age\":{$sum:\"$age\"}}}])\n",
    "{ \"_id\" : null, \"Total Age\" : 207 }\n",
    "```"
   ]
  },
  {
   "cell_type": "markdown",
   "metadata": {},
   "source": [
    "- **show total age of all men and total age of all women** [1]"
   ]
  },
  {
   "cell_type": "markdown",
   "metadata": {},
   "source": [
    "```json\n",
    "> db.docs.find({})\n",
    "{ \"_id\" : \"G00123456\", \"fname\" : \"Mary\", \"surname\" : \"O'Neill\", \"age\" : 23, \"sex\" : \"F\" }\n",
    "{ \"_id\" : \"G00111555\", \"fname\" : \"Tom\", \"surname\" : \"Hughes\", \"age\" : 21, \"sex\" : \"M\" }\n",
    "{ \"_id\" : \"G00123488\", \"fname\" : \"Sean\", \"surname\" : \"Murphy\" }\n",
    "{ \"_id\" : \"G00111789\", \"fname\" : \"Tom\", \"surname\" : \"McNamara\", \"age\" : 21, \"sex\" : \"M\" }\n",
    "{ \"_id\" : \"G00333588\", \"fname\" : \"Shane\", \"surname\" : \"Collins\", \"age\" : 21, \"sex\" : \"M\" }\n",
    "{ \"_id\" : \"G00111222\", \"fname\" : \"Bill\", \"surname\" : \"Collins\", \"age\" : 29, \"sex\" : \"M\" }\n",
    "{ \"_id\" : \"G00897678\", \"fname\" : \"Orla\", \"surname\" : \"McNicholas\", \"age\" : 29, \"sex\" : \"F\" }\n",
    "{ \"_id\" : \"G00111333\", \"fname\" : \"Bill\", \"surname\" : \"Murphy\", \"age\" : 30, \"sex\" : \"M\" }\n",
    "{ \"_id\" : \"G00111444\", \"fname\" : \"Alice\", \"surname\" : \"Collins\", \"age\" : 33, \"sex\" : \"F\" }\n",
    "```"
   ]
  },
  {
   "cell_type": "markdown",
   "metadata": {},
   "source": [
    "- no sex specified - not included [1]\n",
    "\n",
    "```json\n",
    "{ \"_id\" : \"G00123488\", \"fname\" : \"Sean\", \"surname\" : \"Murphy\" }\n",
    "```"
   ]
  },
  {
   "cell_type": "markdown",
   "metadata": {},
   "source": [
    "- instead of grouping by - \\_id - group by attribute - sex - values - F - M [1]"
   ]
  },
  {
   "cell_type": "markdown",
   "metadata": {},
   "source": [
    "```json\n",
    "> db.docs.aggregate([{$group:{_id:\"$sex\",\"Total Age\":{$sum:\"$age\"}}}])\n",
    "{ \"_id\" : \"M\", \"Total Age\" : 122 }\n",
    "{ \"_id\" : null, \"Total Age\" : 0 }\n",
    "{ \"_id\" : \"F\", \"Total Age\" : 85 }\n",
    "```"
   ]
  },
  {
   "cell_type": "markdown",
   "metadata": {},
   "source": [
    "- **import file demo1a** [1]"
   ]
  },
  {
   "cell_type": "markdown",
   "metadata": {},
   "source": [
    "```json\n",
    "> db\n",
    "mydemo\n",
    "> show collections\n",
    "docs\n",
    "docs2\n",
    "```"
   ]
  },
  {
   "cell_type": "markdown",
   "metadata": {},
   "source": [
    "```json\n",
    "> db.docs2.find()\n",
    "{ \"_id\" : \"191-D-102\", \"make\" : \"Toyota\", \"model\" : \"Corolla\", \"engine\" : { \"size\" : 1.4, \"zeroToSixty\" : 10.5, \"bhp\" : 118 } }\n",
    "{ \"_id\" : \"181-G-22\", \"make\" : \"Toyota\", \"model\" : \"Prius\", \"engine\" : { \"size\" : 1, \"bhp\" : 90 } }\n",
    "{ \"_id\" : \"02-D-23212\", \"make\" : \"Ford\", \"model\" : \"Focus\", \"engine\" : { \"size\" : 1.3, \"zeroToSixty\" : 10.6, \"bhp\" : 118 } }\n",
    "{ \"_id\" : \"91-D-2212\", \"make\" : \"Ford\", \"model\" : \"Fiesta\", \"engine\" : { \"size\" : 1, \"zeroToSixty\" : 15.6, \"bhp\" : 88 } }\n",
    "{ \"_id\" : \"11-G-987\", \"make\" : \"Ford\", \"model\" : \"Mondeo\", \"engine\" : { \"size\" : 1.6, \"zeroToSixty\" : 8, \"bhp\" : 120 } }\n",
    "{ \"_id\" : \"142-MO-9187\", \"make\" : \"Ford\", \"model\" : \"Mondeo\" }\n",
    "```"
   ]
  },
  {
   "cell_type": "markdown",
   "metadata": {},
   "source": [
    "```json\n",
    "> db.docs2.find().pretty()\n",
    "\n",
    "        \"_id\" : \"191-D-102\",\n",
    "        \"make\" : \"Toyota\",\n",
    "        \"model\" : \"Corolla\",\n",
    "        \"engine\" : {\n",
    "                \"size\" : 1.4,\n",
    "                \"zeroToSixty\" : 10.5,\n",
    "                \"bhp\" : 118\n",
    "        }\n",
    "}\n",
    "\n",
    "        \"_id\" : \"181-G-22\",\n",
    "        \"make\" : \"Toyota\",\n",
    "        \"model\" : \"Prius\",\n",
    "        \"engine\" : {\n",
    "                \"size\" : 1,\n",
    "                \"bhp\" : 90\n",
    "        }\n",
    "}\n",
    "\n",
    "        \"_id\" : \"02-D-23212\",\n",
    "        \"make\" : \"Ford\",\n",
    "        \"model\" : \"Focus\",\n",
    "        \"engine\" : {\n",
    "                \"size\" : 1.3,\n",
    "                \"zeroToSixty\" : 10.6,\n",
    "                \"bhp\" : 118\n",
    "        }\n",
    "}\n",
    "\n",
    "        \"_id\" : \"91-D-2212\",\n",
    "        \"make\" : \"Ford\",\n",
    "        \"model\" : \"Fiesta\",\n",
    "        \"engine\" : {\n",
    "                \"size\" : 1,\n",
    "                \"zeroToSixty\" : 15.6,\n",
    "                \"bhp\" : 88\n",
    "        }\n",
    "}\n",
    "\n",
    "        \"_id\" : \"11-G-987\",\n",
    "        \"make\" : \"Ford\",\n",
    "        \"model\" : \"Mondeo\",\n",
    "        \"engine\" : {\n",
    "                \"size\" : 1.6,\n",
    "                \"zeroToSixty\" : 8,\n",
    "                \"bhp\" : 120\n",
    "        }\n",
    "}\n",
    "{ \"_id\" : \"142-MO-9187\", \"make\" : \"Ford\", \"model\" : \"Mondeo\" }\n",
    "```"
   ]
  },
  {
   "cell_type": "markdown",
   "metadata": {},
   "source": [
    "- **show - registration - make - model - for all cars where the bhp is over 115** [1]"
   ]
  },
  {
   "cell_type": "markdown",
   "metadata": {},
   "source": [
    "- attribute - engine - not a single value - but a document [1]\n",
    "\n",
    "\n",
    "- attribute - bhp - not an attribute of the main document but an attribute of the embedded document - attribute - engine [1]"
   ]
  },
  {
   "cell_type": "markdown",
   "metadata": {},
   "source": [
    "```json\n",
    "\"engine\" : {\n",
    "                \"size\" : 1.6,\n",
    "                \"zeroToSixty\" : 8,\n",
    "                \"bhp\" : 120\n",
    "        }\n",
    "```"
   ]
  },
  {
   "cell_type": "markdown",
   "metadata": {},
   "source": [
    "- accessing information from an embedded document - attribute within an embeddded document must surround by double qoutes [1]"
   ]
  },
  {
   "cell_type": "markdown",
   "metadata": {},
   "source": [
    "```json\n",
    "> db.docs2.find({\"engine.bhp\":{$gt:115}})\n",
    "{ \"_id\" : \"191-D-102\", \"make\" : \"Toyota\", \"model\" : \"Corolla\", \"engine\" : { \"size\" : 1.4, \"zeroToSixty\" : 10.5, \"bhp\" : 118 } }\n",
    "{ \"_id\" : \"02-D-23212\", \"make\" : \"Ford\", \"model\" : \"Focus\", \"engine\" : { \"size\" : 1.3, \"zeroToSixty\" : 10.6, \"bhp\" : 118 } }\n",
    "{ \"_id\" : \"11-G-987\", \"make\" : \"Ford\", \"model\" : \"Mondeo\", \"engine\" : { \"size\" : 1.6, \"zeroToSixty\" : 8, \"bhp\" : 120 } }\n",
    "```"
   ]
  },
  {
   "cell_type": "markdown",
   "metadata": {},
   "source": [
    "```json\n",
    "> db.docs2.find({\"engine.bhp\":{$gt:115}}).pretty()\n",
    "\n",
    "        \"_id\" : \"191-D-102\",\n",
    "        \"make\" : \"Toyota\",\n",
    "        \"model\" : \"Corolla\",\n",
    "        \"engine\" : {\n",
    "                \"size\" : 1.4,\n",
    "                \"zeroToSixty\" : 10.5,\n",
    "                \"bhp\" : 118\n",
    "        }\n",
    "}\n",
    "\n",
    "        \"_id\" : \"02-D-23212\",\n",
    "        \"make\" : \"Ford\",\n",
    "        \"model\" : \"Focus\",\n",
    "        \"engine\" : {\n",
    "                \"size\" : 1.3,\n",
    "                \"zeroToSixty\" : 10.6,\n",
    "                \"bhp\" : 118\n",
    "        }\n",
    "}\n",
    "\n",
    "        \"_id\" : \"11-G-987\",\n",
    "        \"make\" : \"Ford\",\n",
    "        \"model\" : \"Mondeo\",\n",
    "        \"engine\" : {\n",
    "                \"size\" : 1.6,\n",
    "                \"zeroToSixty\" : 8,\n",
    "                \"bhp\" : 120\n",
    "        }\n",
    "}\n",
    "```"
   ]
  },
  {
   "cell_type": "markdown",
   "metadata": {},
   "source": [
    "- projection - document - registration - make - model [1]"
   ]
  },
  {
   "cell_type": "markdown",
   "metadata": {},
   "source": [
    "```json\n",
    "> db.docs2.find({\"engine.bhp\":{$gt:115}},{make:true,model:true})\n",
    "{ \"_id\" : \"191-D-102\", \"make\" : \"Toyota\", \"model\" : \"Corolla\" }\n",
    "{ \"_id\" : \"02-D-23212\", \"make\" : \"Ford\", \"model\" : \"Focus\" }\n",
    "{ \"_id\" : \"11-G-987\", \"make\" : \"Ford\", \"model\" : \"Mondeo\" }\n",
    "```"
   ]
  },
  {
   "cell_type": "markdown",
   "metadata": {},
   "source": [
    "- **show the average bhp for each model of car** [1]"
   ]
  },
  {
   "cell_type": "markdown",
   "metadata": {},
   "source": [
    "[method - aggregate](https://docs.mongodb.com/manual/reference/method/db.collection.aggregate/index.html#definition)"
   ]
  },
  {
   "cell_type": "markdown",
   "metadata": {},
   "source": [
    "- method aggregate - parameter - array [1]\n",
    "\n",
    "\n",
    "- operator - group - grouping by - \\_id - attribute - model - value - $model - for each attribute in the document [1]\n",
    "\n",
    "\n",
    "- operator - accumulator - avg - obtain average for each model bhp [1]"
   ]
  },
  {
   "cell_type": "markdown",
   "metadata": {},
   "source": [
    "```json\n",
    "> db.docs2.aggregate([{$group:{_id:\"$model\",\"Average bhp\":{$avg:\"$engine.bhp\"}}}])\n",
    "{ \"_id\" : \"Fiesta\", \"Average bhp\" : 88 }\n",
    "{ \"_id\" : \"Corolla\", \"Average bhp\" : 118 }\n",
    "{ \"_id\" : \"Mondeo\", \"Average bhp\" : 120 }\n",
    "{ \"_id\" : \"Prius\", \"Average bhp\" : 90 }\n",
    "{ \"_id\" : \"Focus\", \"Average bhp\" : 118 }\n",
    "```"
   ]
  },
  {
   "cell_type": "markdown",
   "metadata": {},
   "source": [
    "- **import file demo1b** [1]"
   ]
  },
  {
   "cell_type": "markdown",
   "metadata": {},
   "source": [
    "```json\n",
    "> show collections\n",
    "docs\n",
    "docs2\n",
    "docs3\n",
    "```"
   ]
  },
  {
   "cell_type": "markdown",
   "metadata": {},
   "source": [
    "```json\n",
    "> db.docs3.find()\n",
    "{ \"_id\" : 1, \"name\" : \"J.K. Rowling\", \"born\" : \"England\" }\n",
    "{ \"_id\" : 100, \"title\" : \"That They May Face the Rising Sun\", \"author\" : 3 }\n",
    "{ \"_id\" : 101, \"title\" : \"The Lion, the witch and the wardrobe\", \"author\" : 2 }\n",
    "{ \"_id\" : 103, \"title\" : \"Harry Potter and the Philosopher's Stone\", \"author\" : 1 }\n",
    "{ \"_id\" : 102, \"title\" : \"The House and his boy\", \"author\" : 2 }\n",
    "{ \"_id\" : 2, \"name\" : \"C.S. Lewis\", \"born\" : \"England\" }\n",
    "{ \"_id\" : 3, \"name\" : \"John McGahern\", \"born\" : \"Ireland\" }\n",
    "```"
   ]
  },
  {
   "cell_type": "markdown",
   "metadata": {},
   "source": [
    "- **show the details of all books and for each book show all details of the corresponding author as Written By - sort the results by author name** [1]"
   ]
  },
  {
   "cell_type": "markdown",
   "metadata": {},
   "source": [
    "[function - aggregate - pipeline - lookup](https://docs.mongodb.com/manual/reference/operator/aggregation/lookup/#syntax/)"
   ]
  },
  {
   "cell_type": "markdown",
   "metadata": {},
   "source": [
    "- references from - documents in a collection - to other documents - need to join [1]\n",
    "\n",
    "\n",
    "```json\n",
    "{ \"_id\" : 100, \"title\" : \"That They May Face the Rising Sun\", \"author\" : 3 }\n",
    "```\n",
    "\n",
    "- author - 2 - refers [1]\n",
    "\n",
    "```json\n",
    "{ \"_id\" : 3, \"name\" : \"John McGahern\", \"born\" : \"Ireland\" }\n",
    "```\n",
    "\n",
    "\n",
    "```json\n",
    "{ \"_id\" : 101, \"title\" : \"The Lion, the witch and the wardrobe\", \"author\" : 2 }\n",
    "```\n",
    "\n",
    "- author - 2 - refers [1]\n",
    "\n",
    "```json\n",
    "{ \"_id\" : 2, \"name\" : \"C.S. Lewis\", \"born\" : \"England\" }\n",
    "```\n",
    "\n",
    "\n",
    "```json\n",
    "{ \"_id\" : 102, \"title\" : \"The House and his boy\", \"author\" : 2 }\n",
    "```\n",
    "\n",
    "- author - 2 - refers [1]\n",
    "\n",
    "```json\n",
    "{ \"_id\" : 2, \"name\" : \"C.S. Lewis\", \"born\" : \"England\" }\n",
    "```\n",
    "\n",
    "\n",
    "```json\n",
    "{ \"_id\" : 103, \"title\" : \"Harry Potter and the Philosopher's Stone\", \"author\" : 1 }\n",
    "```\n",
    "\n",
    "- author - 2 - refers [1]\n",
    "\n",
    "```json\n",
    "{ \"_id\" : 1, \"name\" : \"J.K. Rowling\", \"born\" : \"England\" }\n",
    "```"
   ]
  },
  {
   "cell_type": "markdown",
   "metadata": {},
   "source": [
    "```json\n",
    "> db.docs3.aggregate([{$lookup:{from:\"docs3\",localField:\"author\",foreignField:\"_id\",as:\"Written By\"}}])\n",
    "{ \"_id\" : 1, \"name\" : \"J.K. Rowling\", \"born\" : \"England\", \"Written By\" : [ ] }\n",
    "{ \"_id\" : 100, \"title\" : \"That They May Face the Rising Sun\", \"author\" : 3, \"Written By\" : [ { \"_id\" : 3, \"name\" : \"John McGahern\", \"born\" : \"Ireland\" } ] }\n",
    "{ \"_id\" : 101, \"title\" : \"The Lion, the witch and the wardrobe\", \"author\" : 2, \"Written By\" : [ { \"_id\" : 2, \"name\" : \"C.S. Lewis\", \"born\" : \"England\" } ] }\n",
    "{ \"_id\" : 103, \"title\" : \"Harry Potter and the Philosopher's Stone\", \"author\" : 1, \"Written By\" : [ { \"_id\" : 1, \"name\" : \"J.K. Rowling\", \"born\" : \"England\" } ] }\n",
    "{ \"_id\" : 102, \"title\" : \"The House and his boy\", \"author\" : 2, \"Written By\" : [ { \"_id\" : 2, \"name\" : \"C.S. Lewis\", \"born\" : \"England\" } ] }\n",
    "{ \"_id\" : 2, \"name\" : \"C.S. Lewis\", \"born\" : \"England\", \"Written By\" : [ ] }\n",
    "{ \"_id\" : 3, \"name\" : \"John McGahern\", \"born\" : \"Ireland\", \"Written By\" : [ ] }\n",
    "```"
   ]
  },
  {
   "cell_type": "markdown",
   "metadata": {},
   "source": [
    "[method - aggregate - pipeline - stage - sort](https://docs.mongodb.com/manual/reference/operator/aggregation/sort/#definition)"
   ]
  },
  {
   "cell_type": "markdown",
   "metadata": {},
   "source": [
    "- sort by author name - given method - aggregate - do not use the method - sort - instead - pipeline aggregation stage - sort [1]"
   ]
  },
  {
   "cell_type": "markdown",
   "metadata": {},
   "source": [
    "```json\n",
    "> db.docs3.aggregate([{$lookup:{from:\"docs3\",localField:\"author\",foreignField:\"_id\",as:\"Written By\"}},{$sort:{\"Written By.name\":1}}])\n",
    "{ \"_id\" : 1, \"name\" : \"J.K. Rowling\", \"born\" : \"England\", \"Written By\" : [ ] }\n",
    "{ \"_id\" : 2, \"name\" : \"C.S. Lewis\", \"born\" : \"England\", \"Written By\" : [ ] }\n",
    "{ \"_id\" : 3, \"name\" : \"John McGahern\", \"born\" : \"Ireland\", \"Written By\" : [ ] }\n",
    "{ \"_id\" : 101, \"title\" : \"The Lion, the witch and the wardrobe\", \"author\" : 2, \"Written By\" : [ { \"_id\" : 2, \"name\" : \"C.S. Lewis\", \"born\" : \"England\" } ] }\n",
    "{ \"_id\" : 102, \"title\" : \"The House and his boy\", \"author\" : 2, \"Written By\" : [ { \"_id\" : 2, \"name\" : \"C.S. Lewis\", \"born\" : \"England\" } ] }\n",
    "{ \"_id\" : 103, \"title\" : \"Harry Potter and the Philosopher's Stone\", \"author\" : 1, \"Written By\" : [ { \"_id\" : 1, \"name\" : \"J.K. Rowling\", \"born\" : \"England\" } ] }\n",
    "{ \"_id\" : 100, \"title\" : \"That They May Face the Rising Sun\", \"author\" : 3, \"Written By\" : [ { \"_id\" : 3, \"name\" : \"John McGahern\", \"born\" : \"Ireland\" } ] }\n",
    "```"
   ]
  },
  {
   "cell_type": "markdown",
   "metadata": {},
   "source": [
    "***\n",
    "### END-lab-2"
   ]
  },
  {
   "cell_type": "markdown",
   "metadata": {},
   "source": [
    "***\n",
    "# END"
   ]
  }
 ],
 "metadata": {
  "kernelspec": {
   "display_name": "Python 3",
   "language": "python",
   "name": "python3"
  },
  "language_info": {
   "codemirror_mode": {
    "name": "ipython",
    "version": 3
   },
   "file_extension": ".py",
   "mimetype": "text/x-python",
   "name": "python",
   "nbconvert_exporter": "python",
   "pygments_lexer": "ipython3",
   "version": "3.7.6"
  }
 },
 "nbformat": 4,
 "nbformat_minor": 4
}

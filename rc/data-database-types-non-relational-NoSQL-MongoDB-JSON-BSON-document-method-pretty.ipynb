{
 "cells": [
  {
   "cell_type": "markdown",
   "metadata": {},
   "source": [
    "# data-database-types-non-relational-NoSQL-MongoDB-JSON-BSON-document-method-pretty\n",
    "> [TABLE OF CONTENTS](https://nbviewer.jupyter.org/github/SeanOhAileasa/adb-mongodb/blob/main/adb-mongodb.ipynb#top)\n",
    "***"
   ]
  },
  {
   "cell_type": "markdown",
   "metadata": {},
   "source": [
    "- **method** - **pretty** - **readability** [1]"
   ]
  },
  {
   "cell_type": "markdown",
   "metadata": {},
   "source": [
    "```json\n",
    "> show databases;\n",
    "admin    0.000GB\n",
    "config   0.000GB\n",
    "demo1    0.000GB\n",
    "local    0.000GB\n",
    "mdb      0.000GB\n",
    "myNewDB  0.000GB\n",
    "```"
   ]
  },
  {
   "cell_type": "markdown",
   "metadata": {},
   "source": [
    "```json\n",
    "> use mdb;\n",
    "switched to db mdb\n",
    "```"
   ]
  },
  {
   "cell_type": "markdown",
   "metadata": {},
   "source": [
    "```json\n",
    "> db;\n",
    "mdb\n",
    "```"
   ]
  },
  {
   "cell_type": "markdown",
   "metadata": {},
   "source": [
    "```json\n",
    "> show collections;\n",
    "emp\n",
    "gpa\n",
    "mydoc\n",
    "user\n",
    "```"
   ]
  },
  {
   "cell_type": "markdown",
   "metadata": {},
   "source": [
    "- relational_rows-records-tuples - mongodb_documents - consists of dozens of name/value pairs - difficult to read [1]"
   ]
  },
  {
   "cell_type": "markdown",
   "metadata": {},
   "source": [
    "```json\n",
    "> db.user.find();\n",
    "{ \"_id\" : 1, \"fname\" : \"John\", \"sname\" : \"Smith\", \"age\" : 22, \"email\" : \"john@gmail.com\" }\n",
    "{ \"_id\" : 2, \"fname\" : \"Sean\", \"sname\" : \"Williams\", \"age\" : 30, \"email\" : \"williamss@gmail.com\" }\n",
    "{ \"_id\" : 3, \"fname\" : \"Albert\", \"sname\" : \"O'Hara\", \"age\" : 27, \"email\" : \"al@hotmail.com\", \"twitter\" : \"@al1234\" } { \"_id\" : 4, \"fname\" : \"Mary\", \"sname\" : \"Collins\", \"age\" : 22 }\n",
    "{ \"_id\" : 5, \"fname\" : \"Susan\", \"sname\" : \"Hanly\", \"age\" : 18, \"email\" : \"susie@hotmail.com\", \"twitter\" : \"@Susi2u\" }\n",
    "```"
   ]
  },
  {
   "cell_type": "markdown",
   "metadata": {},
   "source": [
    "```json\n",
    "> db.user.find().pretty();\n",
    "\n",
    "        \"_id\" : 1,\n",
    "        \"fname\" : \"John\",\n",
    "        \"sname\" : \"Smith\",\n",
    "        \"age\" : 22,\n",
    "        \"email\" : \"john@gmail.com\"\n",
    "}\n",
    "\n",
    "        \"_id\" : 2,\n",
    "        \"fname\" : \"Sean\",\n",
    "        \"sname\" : \"Williams\",\n",
    "        \"age\" : 30,\n",
    "        \"email\" : \"williamss@gmail.com\"\n",
    "}\n",
    "\n",
    "        \"_id\" : 3,\n",
    "        \"fname\" : \"Albert\",\n",
    "        \"sname\" : \"O'Hara\",\n",
    "        \"age\" : 27,\n",
    "        \"email\" : \"al@hotmail.com\",\n",
    "        \"twitter\" : \"@al1234\"\n",
    "}\n",
    "{ \"_id\" : 4, \"fname\" : \"Mary\", \"sname\" : \"Collins\", \"age\" : 22 }\n",
    "\n",
    "        \"_id\" : 5,\n",
    "        \"fname\" : \"Susan\",\n",
    "        \"sname\" : \"Hanly\",\n",
    "        \"age\" : 18,\n",
    "        \"email\" : \"susie@hotmail.com\",\n",
    "        \"twitter\" : \"@Susi2u\"\n",
    "}\n",
    "```"
   ]
  },
  {
   "cell_type": "markdown",
   "metadata": {},
   "source": [
    "***\n",
    "# END"
   ]
  }
 ],
 "metadata": {
  "kernelspec": {
   "display_name": "Python 3",
   "language": "python",
   "name": "python3"
  },
  "language_info": {
   "codemirror_mode": {
    "name": "ipython",
    "version": 3
   },
   "file_extension": ".py",
   "mimetype": "text/x-python",
   "name": "python",
   "nbconvert_exporter": "python",
   "pygments_lexer": "ipython3",
   "version": "3.7.6"
  }
 },
 "nbformat": 4,
 "nbformat_minor": 4
}

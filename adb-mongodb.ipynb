{
 "cells": [
  {
   "cell_type": "code",
   "execution_count": null,
   "id": "97624e00",
   "metadata": {},
   "outputs": [
    {
     "data": {
      "text/html": [
       "<script>Jupyter.notebook.kernel.restart()</script>"
      ]
     },
     "metadata": {},
     "output_type": "display_data"
    }
   ],
   "source": [
    "from IPython.core.display import display_html\n",
    "display_html(\"<script>Jupyter.notebook.kernel.restart()</script>\",raw=True)"
   ]
  },
  {
   "cell_type": "code",
   "execution_count": 1,
   "id": "383a5b5a",
   "metadata": {},
   "outputs": [
    {
     "data": {
      "text/html": [
       "<style>.container { width:100% !important; }</style>"
      ],
      "text/plain": [
       "<IPython.core.display.HTML object>"
      ]
     },
     "metadata": {},
     "output_type": "display_data"
    },
    {
     "data": {
      "text/html": [
       "<style>.container { width:100% !important; }</style>"
      ],
      "text/plain": [
       "<IPython.core.display.HTML object>"
      ]
     },
     "metadata": {},
     "output_type": "display_data"
    }
   ],
   "source": [
    "from sys import path; path.insert(1,\"../src\");\n",
    "import fubar; from importlib import reload; reload(fubar);"
   ]
  },
  {
   "cell_type": "markdown",
   "id": "b469ac7d",
   "metadata": {},
   "source": [
    "***\n",
    "< [GMIT Data Analytics](https://web.archive.org/web/20201029063153/https://www.gmit.ie/computer-science-and-applied-physics/higher-diploma-science-computing-data-analytics-ict) | [Home](https://github.com/SeanOhAileasa) | [README](https://github.com/SeanOhAileasa/adb-mongodb/blob/main/README.md) >\n",
    "\n",
    "[![GMIT](https://github.com/SeanOhAileasa/SeanOhAileasa/blob/master/rc/gmit.png?raw=true)](https://web.archive.org/web/20201029063153/https://www.gmit.ie/computer-science-and-applied-physics/higher-diploma-science-computing-data-analytics-ict)\n",
    "\n",
    "## Applied Databases - Course Material 2020\n",
    "### Topic: [MongoDB](https://nbviewer.jupyter.org/github/SeanOhAileasa/adb-mongodb/blob/main/adb-mongodb.ipynb)\n",
    "\n",
    "***"
   ]
  },
  {
   "cell_type": "markdown",
   "id": "e9ebc5f1",
   "metadata": {},
   "source": [
    "Course material for the ``Applied Databases`` module (5 Credits) of the ``Higher Diploma in Science in Computing (Data Analytics) (H.Dip)`` programme (75 Credits) at **Galway-Mayo Institute of Technology (GMIT)**."
   ]
  },
  {
   "cell_type": "code",
   "execution_count": 2,
   "id": "eea55111",
   "metadata": {},
   "outputs": [],
   "source": [
    "from sys import path; path.insert(1,\"../src\")\n",
    "from fubar import fFile"
   ]
  },
  {
   "cell_type": "code",
   "execution_count": 3,
   "id": "62e9b25e",
   "metadata": {},
   "outputs": [
    {
     "name": "stdout",
     "output_type": "stream",
     "text": [
      "# repository ./SeanOhAileasa\r\n",
      "def fFile(nParPath):\r\n",
      "    \"\"\"Start a file with its associated application.\r\n",
      "\r\n",
      "Input: nParPath\r\n",
      "Process: (os.path.realpath; os.startfile)\r\n",
      "Output: file opened with associated application\r\n",
      "\"\"\"\r\n",
      "    from os import path,startfile\r\n",
      "    return startfile(path.realpath(nParPath))\r\n",
      "# --- END ---\r\n"
     ]
    }
   ],
   "source": [
    "%%script bash\n",
    "grep -1 \"def fFile\" ../src/fubar.py -A 9"
   ]
  },
  {
   "cell_type": "markdown",
   "id": "1cc8e3d6",
   "metadata": {},
   "source": [
    "<a id=\"top\"></a>\n",
    "***\n",
    "## Table of Contents\n",
    "***\n",
    "\n",
    "## [Abstract](#abstract)\n",
    "\n",
    "- &#x1F6A7;\n",
    "\n",
    "## [Introduction](#introduction)\n",
    "\n",
    "* [non-relational](https://nbviewer.jupyter.org/github/SeanOhAileasa/adb-mongodb/blob/main/rc/data-database-types-non-relational.ipynb)\n",
    "\n",
    "    * [collection](https://nbviewer.jupyter.org/github/SeanOhAileasa/adb-mongodb/blob/main/rc/data-database-types-non-relational-collection.ipynb)\n",
    "\n",
    "    * [scalability](https://nbviewer.jupyter.org/github/SeanOhAileasa/adb-mongodb/blob/main/rc/data-database-types-non-relational-scalability.ipynb)\n",
    "\n",
    "        * [transaction](https://nbviewer.jupyter.org/github/SeanOhAileasa/adb-mongodb/blob/main/rc/data-database-types-non-relational-scalability-transaction.ipynb)\n",
    "\n",
    "    * [NoSQL](https://nbviewer.jupyter.org/github/SeanOhAileasa/adb-mongodb/blob/main/rc/data-database-types-non-relational-NoSQL-intentionally-blank.ipynb)\n",
    "\n",
    "        * [MongoDB](https://nbviewer.jupyter.org/github/SeanOhAileasa/adb-mongodb/blob/main/rc/data-database-types-non-relational-NoSQL-MongoDB.ipynb)\n",
    "\n",
    "            * [MySQL](https://nbviewer.jupyter.org/github/SeanOhAileasa/adb-mongodb/blob/main/rc/data-database-types-non-relational-NoSQL-MongoDB-MySQL.ipynb)\n",
    "\n",
    "            * [JSON](https://nbviewer.jupyter.org/github/SeanOhAileasa/adb-mongodb/blob/main/rc/data-database-types-non-relational-NoSQL-MongoDB-JSON.ipynb)\n",
    "\n",
    "                * [use](https://nbviewer.jupyter.org/github/SeanOhAileasa/adb-mongodb/blob/main/rc/data-database-types-non-relational-NoSQL-MongoDB-JSON-use.ipynb)\n",
    "\n",
    "                * [data-types](https://nbviewer.jupyter.org/github/SeanOhAileasa/adb-mongodb/blob/main/rc/data-database-types-non-relational-NoSQL-MongoDB-JSON-data-types-intentionally-blank.ipynb)\n",
    "\n",
    "                    * [number](https://nbviewer.jupyter.org/github/SeanOhAileasa/adb-mongodb/blob/main/rc/data-database-types-non-relational-NoSQL-MongoDB-JSON-data-types-number.ipynb)\n",
    "\n",
    "                    * [string](https://nbviewer.jupyter.org/github/SeanOhAileasa/adb-mongodb/blob/main/rc/data-database-types-non-relational-NoSQL-MongoDB-JSON-data-types-string.ipynb)\n",
    "\n",
    "                    * [boolean](https://nbviewer.jupyter.org/github/SeanOhAileasa/adb-mongodb/blob/main/rc/data-database-types-non-relational-NoSQL-MongoDB-JSON-data-types-boolean.ipynb)\n",
    "\n",
    "                    * [array](https://nbviewer.jupyter.org/github/SeanOhAileasa/adb-mongodb/blob/main/rc/data-database-types-non-relational-NoSQL-MongoDB-JSON-data-types-array.ipynb)\n",
    "\n",
    "                    * [object](https://nbviewer.jupyter.org/github/SeanOhAileasa/adb-mongodb/blob/main/rc/data-database-types-non-relational-NoSQL-MongoDB-JSON-data-types-object.ipynb)\n",
    "\n",
    "        * [BSON](https://nbviewer.jupyter.org/github/SeanOhAileasa/adb-mongodb/blob/main/rc/data-database-types-non-relational-NoSQL-MongoDB-JSON-BSON.ipynb)\n",
    "\n",
    "            * [document](https://nbviewer.jupyter.org/github/SeanOhAileasa/adb-mongodb/blob/main/rc/data-database-types-non-relational-NoSQL-MongoDB-JSON-BSON-document.ipynb)\n",
    "\n",
    "                * [rules](https://nbviewer.jupyter.org/github/SeanOhAileasa/adb-mongodb/blob/main/rc/data-database-types-non-relational-NoSQL-MongoDB-JSON-BSON-document-rules.ipynb)\n",
    "\n",
    "                * [attribute](https://nbviewer.jupyter.org/github/SeanOhAileasa/adb-mongodb/blob/main/rc/data-database-types-non-relational-NoSQL-MongoDB-JSON-BSON-document-attribute-intentionally-blank.ipynb)\n",
    "\n",
    "                    * [id](https://nbviewer.jupyter.org/github/SeanOhAileasa/adb-mongodb/blob/main/rc/data-database-types-non-relational-NoSQL-MongoDB-JSON-BSON-document-attribute-_id.ipynb)\n",
    "\n",
    "                * [method](https://nbviewer.jupyter.org/github/SeanOhAileasa/adb-mongodb/blob/main/rc/data-database-types-non-relational-NoSQL-MongoDB-JSON-BSON-document-method-intentionally-blank.ipynb)\n",
    "\n",
    "                    * [save](https://nbviewer.jupyter.org/github/SeanOhAileasa/adb-mongodb/blob/main/rc/data-database-types-non-relational-NoSQL-MongoDB-JSON-BSON-document-method-save.ipynb)\n",
    "\n",
    "                    * < [find](https://nbviewer.jupyter.org/github/SeanOhAileasa/adb-mongodb/blob/main/rc/data-database-types-non-relational-NoSQL-MongoDB-JSON-BSON-document-method-find.ipynb)&nbsp;&nbsp;|&nbsp;&nbsp;[projection](https://nbviewer.jupyter.org/github/SeanOhAileasa/adb-mongodb/blob/main/rc/data-database-types-non-relational-NoSQL-MongoDB-JSON-BSON-document-method-find-projection.ipynb) >\n",
    "\n",
    "                    * [findone](https://nbviewer.jupyter.org/github/SeanOhAileasa/adb-mongodb/blob/main/rc/data-database-types-non-relational-NoSQL-MongoDB-JSON-BSON-document-method-findone.ipynb)\n",
    "\n",
    "                    * [pretty](https://nbviewer.jupyter.org/github/SeanOhAileasa/adb-mongodb/blob/main/rc/data-database-types-non-relational-NoSQL-MongoDB-JSON-BSON-document-method-pretty.ipynb)\n",
    "\n",
    "                    * [sort](https://nbviewer.jupyter.org/github/SeanOhAileasa/adb-mongodb/blob/main/rc/data-database-types-non-relational-NoSQL-MongoDB-JSON-BSON-document-method-sort.ipynb)\n",
    "\n",
    "                    * [insert](https://nbviewer.jupyter.org/github/SeanOhAileasa/adb-mongodb/blob/main/rc/data-database-types-non-relational-NoSQL-MongoDB-JSON-BSON-document-method-insert.ipynb)\n",
    "\n",
    "                    * [update](https://nbviewer.jupyter.org/github/SeanOhAileasa/adb-mongodb/blob/main/rc/data-database-types-non-relational-NoSQL-MongoDB-JSON-BSON-document-method-update.ipynb);\n",
    "\n",
    "                    * [deleteOne](https://nbviewer.jupyter.org/github/SeanOhAileasa/adb-mongodb/blob/main/rc/data-database-types-non-relational-NoSQL-MongoDB-JSON-BSON-document-method-deleteOne.ipynb)\n",
    "\n",
    "                    * [deleteMany](https://nbviewer.jupyter.org/github/SeanOhAileasa/adb-mongodb/blob/main/rc/data-database-types-non-relational-NoSQL-MongoDB-JSON-BSON-document-method-deleteMany.ipynb)\n",
    "\n",
    "                    * [aggregate](https://nbviewer.jupyter.org/github/SeanOhAileasa/adb-mongodb/blob/main/rc/data-database-types-non-relational-NoSQL-MongoDB-JSON-BSON-document-method-aggregate.ipynb)\n",
    "\n",
    "                        * < [pipeline](https://nbviewer.jupyter.org/github/SeanOhAileasa/adb-mongodb/blob/main/rc/data-database-types-non-relational-NoSQL-MongoDB-JSON-BSON-document-method-aggregate-pipeline-intentionally-blank.ipynb)&nbsp;&nbsp;|&nbsp;&nbsp;[group](https://nbviewer.jupyter.org/github/SeanOhAileasa/adb-mongodb/blob/main/rc/data-database-types-non-relational-NoSQL-MongoDB-JSON-BSON-document-method-aggregate-pipeline-group.ipynb)&nbsp;&nbsp;|&nbsp;&nbsp;[sort](https://nbviewer.jupyter.org/github/SeanOhAileasa/adb-mongodb/blob/main/rc/data-database-types-non-relational-NoSQL-MongoDB-JSON-BSON-document-method-aggregate-pipeline-sort.ipynb) >\n",
    "                        \n",
    "                        * < [operator](https://nbviewer.jupyter.org/github/SeanOhAileasa/adb-mongodb/blob/main/rc/data-database-types-non-relational-NoSQL-MongoDB-JSON-BSON-document-method-aggregate-operator-intentionally-blank.ipynb)&nbsp;&nbsp;|&nbsp;&nbsp;[avg](https://nbviewer.jupyter.org/github/SeanOhAileasa/adb-mongodb/blob/main/rc/data-database-types-non-relational-NoSQL-MongoDB-JSON-BSON-document-method-aggregate-operator-avg.ipynb)&nbsp;&nbsp;|&nbsp;&nbsp;[max](https://nbviewer.jupyter.org/github/SeanOhAileasa/adb-mongodb/blob/main/rc/data-database-types-non-relational-NoSQL-MongoDB-JSON-BSON-document-method-aggregate-operator-max.ipynb) >\n",
    "\n",
    "                * [indexing](https://nbviewer.jupyter.org/github/SeanOhAileasa/adb-mongodb/blob/main/rc/data-database-types-non-relational-NoSQL-MongoDB-JSON-BSON-document-indexing.ipynb)\n",
    "\n",
    "                    * < [method](https://nbviewer.jupyter.org/github/SeanOhAileasa/adb-mongodb/blob/main/rc/data-database-types-non-relational-NoSQL-MongoDB-JSON-BSON-document-indexing-method-intentionally-blank.ipynb)&nbsp;&nbsp;|&nbsp;&nbsp;[createIndex](https://nbviewer.jupyter.org/github/SeanOhAileasa/adb-mongodb/blob/main/rc/data-database-types-non-relational-NoSQL-MongoDB-JSON-BSON-document-indexing-method-createIndex.ipynb)&nbsp;&nbsp;|&nbsp;&nbsp;[getIndexes](https://nbviewer.jupyter.org/github/SeanOhAileasa/adb-mongodb/blob/main/rc/data-database-types-non-relational-NoSQL-MongoDB-JSON-BSON-document-indexing-method-getIndexes.ipynb)&nbsp;&nbsp;|&nbsp;&nbsp;[dropIndex](https://nbviewer.jupyter.org/github/SeanOhAileasa/adb-mongodb/blob/main/rc/data-database-types-non-relational-NoSQL-MongoDB-JSON-BSON-document-indexing-method-dropIndex.ipynb) >\n",
    "\n",
    "                * [operator](https://nbviewer.jupyter.org/github/SeanOhAileasa/adb-mongodb/blob/main/rc/data-database-types-non-relational-NoSQL-MongoDB-JSON-BSON-document-operator.ipynb)\n",
    "\n",
    "                    * [query-logical](https://nbviewer.jupyter.org/github/SeanOhAileasa/adb-mongodb/blob/main/rc/data-database-types-non-relational-NoSQL-MongoDB-JSON-BSON-document-operator-query-logical-intentionally-blank.ipynb)\n",
    "\n",
    "                        * [and](https://nbviewer.jupyter.org/github/SeanOhAileasa/adb-mongodb/blob/main/rc/data-database-types-non-relational-NoSQL-MongoDB-JSON-BSON-document-operator-query-logical-and.ipynb)\n",
    "\n",
    "                        * [or](https://nbviewer.jupyter.org/github/SeanOhAileasa/adb-mongodb/blob/main/rc/data-database-types-non-relational-NoSQL-MongoDB-JSON-BSON-document-operator-query-logical-or.ipynb)\n",
    "\n",
    "                    - < [query-comparison](https://nbviewer.jupyter.org/github/SeanOhAileasa/adb-mongodb/blob/main/rc/data-database-types-non-relational-NoSQL-MongoDB-JSON-BSON-document-operator-query-comparison-intentionally-blank.ipynb)&nbsp;&nbsp;|&nbsp;&nbsp;[in](https://nbviewer.jupyter.org/github/SeanOhAileasa/adb-mongodb/blob/main/rc/data-database-types-non-relational-NoSQL-MongoDB-JSON-BSON-document-operator-query-comparison-in.ipynb)&nbsp;&nbsp;|&nbsp;&nbsp;[gt](https://nbviewer.jupyter.org/github/SeanOhAileasa/adb-mongodb/blob/main/rc/data-database-types-non-relational-NoSQL-MongoDB-JSON-BSON-document-operator-query-comparison-gt.ipynb)&nbsp;&nbsp;|&nbsp;&nbsp;[lt](https://nbviewer.jupyter.org/github/SeanOhAileasa/adb-mongodb/blob/main/rc/data-database-types-non-relational-NoSQL-MongoDB-JSON-BSON-document-operator-query-comparison-lt.ipynb) >\n",
    "\n",
    "                    * [query-element](https://nbviewer.jupyter.org/github/SeanOhAileasa/adb-mongodb/blob/main/rc/data-database-types-non-relational-NoSQL-MongoDB-JSON-BSON-document-operator-query-element-intentionally-blank.ipynb)\n",
    "\n",
    "                        * [set](https://nbviewer.jupyter.org/github/SeanOhAileasa/adb-mongodb/blob/main/rc/data-database-types-non-relational-NoSQL-MongoDB-JSON-BSON-document-operator-query-element-set.ipynb)\n",
    "\n",
    "                    * [update-field](https://nbviewer.jupyter.org/github/SeanOhAileasa/adb-mongodb/blob/main/rc/data-database-types-non-relational-NoSQL-MongoDB-JSON-BSON-document-operator-update-field-intentionally-blank.ipynb)\n",
    "\n",
    "                        * [exists](https://nbviewer.jupyter.org/github/SeanOhAileasa/adb-mongodb/blob/main/rc/data-database-types-non-relational-NoSQL-MongoDB-JSON-BSON-document-operator-update-field-exists.ipynb)\n",
    "\n",
    "* [lab](https://nbviewer.jupyter.org/github/SeanOhAileasa/adb-mongodb/blob/main/rc/data-database-types-non-relational-nosql-mongodb-lab.ipynb)\n",
    "\n",
    "## [Solution](#solution)\n",
    "\n",
    "- &#x1F6A7;\n",
    "\n",
    "## [Conclusion](#conclusion)\n",
    "\n",
    "- &#x1F6A7;"
   ]
  },
  {
   "cell_type": "markdown",
   "id": "85777597",
   "metadata": {},
   "source": [
    "***\n",
    "## END"
   ]
  },
  {
   "cell_type": "markdown",
   "id": "089d2e29",
   "metadata": {},
   "source": [
    "< [Table of Contents](#top) | [Introduction](#introduction) | [Solution](#solution) | [Conclusion](#conclusion) | [References](#references) >\n",
    "<a id=\"abstract\"></a>\n",
    "***\n",
    "## Abstract\n",
    "***"
   ]
  },
  {
   "cell_type": "markdown",
   "id": "fa86ea9b",
   "metadata": {},
   "source": [
    "&#x1F6A7;"
   ]
  },
  {
   "cell_type": "markdown",
   "id": "d27daea7",
   "metadata": {},
   "source": [
    "***\n",
    "## END"
   ]
  },
  {
   "cell_type": "markdown",
   "id": "aa771e36",
   "metadata": {},
   "source": [
    "< [Table of Contents](#top) | [Abstract](#abstract) | [Solution](#solution) | [Conclusion](#conclusion) | [References](#references) >\n",
    "<a id=\"introduction\"></a>\n",
    "***\n",
    "## Introduction\n",
    "***"
   ]
  },
  {
   "cell_type": "markdown",
   "id": "c5dc07a0",
   "metadata": {},
   "source": [
    "&#x1F6A7;"
   ]
  },
  {
   "cell_type": "markdown",
   "id": "149bab64",
   "metadata": {},
   "source": [
    "***\n",
    "## END"
   ]
  },
  {
   "cell_type": "markdown",
   "id": "91617051",
   "metadata": {},
   "source": [
    "< [Table of Contents](#top) | [Abstract](#abstract) | [Introduction](#introduction) | [Conclusion](#conclusion) | [References](#references) >\n",
    "<a id=\"solution\"></a>\n",
    "***\n",
    "## Solution\n",
    "***"
   ]
  },
  {
   "cell_type": "markdown",
   "id": "d80b8cb1",
   "metadata": {},
   "source": [
    "&#x1F6A7;"
   ]
  },
  {
   "cell_type": "markdown",
   "id": "fa262572",
   "metadata": {},
   "source": [
    "<!-- - refer [Appendix](#appendix-df) to view the full dataset <a id=\"go-back-df\"></a> -->\n",
    "<!-- print(fGetModuleType(___x___),fDocumentation(___x___)) -->\n",
    "***\n",
    "## END"
   ]
  },
  {
   "cell_type": "markdown",
   "id": "8fa161f9",
   "metadata": {},
   "source": [
    "< [Table of Contents](#top) | [Abstract](#abstract) | [Introduction](#introduction) | [Solution](#solution) | [References](#references) >\n",
    "<a id=\"conclusion\"></a>\n",
    "***\n",
    "## Conclusion\n",
    "***"
   ]
  },
  {
   "cell_type": "markdown",
   "id": "51c4056d",
   "metadata": {},
   "source": [
    "&#x1F6A7;"
   ]
  },
  {
   "cell_type": "markdown",
   "id": "cbf5c479",
   "metadata": {},
   "source": [
    "***\n",
    "## END"
   ]
  },
  {
   "cell_type": "markdown",
   "id": "48bba147",
   "metadata": {},
   "source": [
    "< [Table of Contents](#top) | [Abstract](#abstract) | [Introduction](#introduction) | [Solution](#solution) | [Conclusion](#conclusion) | [References](#references) >\n",
    "<a id=\"references\"></a>\n",
    "***\n",
    "## References\n",
    "***\n",
    "&#x1F6A7;"
   ]
  },
  {
   "cell_type": "markdown",
   "id": "1d9fde4c",
   "metadata": {},
   "source": [
    "***\n",
    "## END"
   ]
  },
  {
   "cell_type": "markdown",
   "id": "03189127",
   "metadata": {},
   "source": [
    "< [Table of Contents](#top) | [Abstract](#abstract) | [Introduction](#introduction) | [Solution](#solution) | [Conclusion](#conclusion) | [References](#references) >\n",
    "<a id=\"appendix\"></a>\n",
    "***\n",
    "## Appendix\n",
    "***"
   ]
  },
  {
   "cell_type": "markdown",
   "id": "7db0b365",
   "metadata": {},
   "source": [
    "&#x1F6A7;"
   ]
  },
  {
   "cell_type": "markdown",
   "id": "28306b22",
   "metadata": {},
   "source": [
    "<a id=\"appendix-some-reference\"></a>\n",
    "< [Go Back](#top) >"
   ]
  },
  {
   "cell_type": "markdown",
   "id": "298b404c",
   "metadata": {},
   "source": [
    "```python\n",
    "from matplotlib.pyplot import box,yticks,xlabel,bar,text,title,show\n",
    "\n",
    "from sys import path; path.insert(1,\"../src\")\n",
    "from fubar import fDarkReader\n",
    "\n",
    "%%script bash\n",
    "grep -1 \"def fDarkReader\" ../src/fubar.py -A 9\n",
    "\n",
    "fDarkReader()\n",
    "```"
   ]
  },
  {
   "cell_type": "markdown",
   "id": "48456527",
   "metadata": {},
   "source": [
    "⚡"
   ]
  },
  {
   "cell_type": "markdown",
   "id": "327db08e",
   "metadata": {},
   "source": [
    "```python\n",
    "from sys import path; path.insert(1,\"../src\")\n",
    "from fubar import fFile\n",
    "\n",
    "%%script bash\n",
    "grep -1 \"def fFile\" ../src/fubar.py -A 9\n",
    "\n",
    "fFile(nParPath=\"\")\n",
    "\n",
    "exit()\n",
    "```"
   ]
  },
  {
   "cell_type": "markdown",
   "id": "5644b25a",
   "metadata": {},
   "source": [
    "###### Github\n",
    "***"
   ]
  },
  {
   "cell_type": "markdown",
   "id": "ccbf7338",
   "metadata": {},
   "source": [
    "```\n",
    "git push -f origin HEAD^:master && git reset HEAD~\n",
    "```"
   ]
  },
  {
   "cell_type": "markdown",
   "id": "7aa470a5",
   "metadata": {},
   "source": [
    "###### Functions\n",
    "***"
   ]
  },
  {
   "cell_type": "markdown",
   "id": "c60b90c1",
   "metadata": {},
   "source": [
    "```python\n",
    "# %%writefile -a ../src/fubar.py\n",
    "# repository ./fubar-python\n",
    "def f():\n",
    "    \"\"\"\n",
    "\n",
    "Input:\n",
    "Process:\n",
    "Output:\n",
    "\"\"\"\n",
    "    pass\n",
    "# -- END ---\n",
    "```"
   ]
  },
  {
   "cell_type": "markdown",
   "id": "a83a23e7",
   "metadata": {},
   "source": [
    "###### Functions - ../src/fubar.py\n",
    "***"
   ]
  },
  {
   "cell_type": "markdown",
   "id": "59767528",
   "metadata": {},
   "source": [
    "```\n",
    "%%script bash\n",
    "cat ../src/fubar.py\n",
    "```"
   ]
  },
  {
   "cell_type": "code",
   "execution_count": 7,
   "id": "d617d518",
   "metadata": {},
   "outputs": [
    {
     "name": "stdout",
     "output_type": "stream",
     "text": [
      "# repository ./SeanOhAileasa\r\n",
      "def fFullScreen():\r\n",
      "\t\"\"\"Utilise full Jupyter notebook screen.\r\n",
      "\r\n",
      "Input:\r\n",
      "Process: (IPython.core.display.display; IPython.core.display.HTML)\r\n",
      "Output:\r\n",
      "\"\"\"\r\n",
      "\tfrom IPython.core.display import display,HTML\r\n",
      "\tdisplay(HTML(\"<style>.container { width:100% !important; }</style>\"))\r\n",
      "# --- END ---\r\n"
     ]
    }
   ],
   "source": [
    "%%script bash\n",
    "grep -1 \"def fFullScreen\" ../src/fubar.py -A 9"
   ]
  },
  {
   "cell_type": "markdown",
   "id": "24e39d21",
   "metadata": {},
   "source": [
    "```\n",
    "git commit -m \"update repository ./fubar-python - Everything in python is an object.\"\n",
    "```"
   ]
  },
  {
   "cell_type": "markdown",
   "id": "1a3b87a7",
   "metadata": {},
   "source": [
    "###### Images\n",
    "***"
   ]
  },
  {
   "cell_type": "markdown",
   "id": "95d2ee93",
   "metadata": {},
   "source": [
    "![gumball](https://github.com/SeanOhAileasa/SeanOhAileasa/blob/master/rc/cta/analysing/gumball.png?raw=true)\n",
    "\n",
    "***(Image) P. Mannion, \"03 Analysing Algorithms Part 1,\" GMIT, October 2017.***"
   ]
  },
  {
   "cell_type": "markdown",
   "id": "9b6bb8fc",
   "metadata": {},
   "source": [
    "###### Tables\n",
    "***"
   ]
  },
  {
   "cell_type": "markdown",
   "id": "e1988427",
   "metadata": {},
   "source": [
    "|aaa|bbbbbb|ccccccccc|\n",
    "|:------------------------- | :------------------------- | :------------------------- |\n",
    "|aaa|bbbbbb|ccccccccc|"
   ]
  },
  {
   "cell_type": "markdown",
   "id": "abac613c",
   "metadata": {},
   "source": [
    "###### References\n",
    "***"
   ]
  },
  {
   "cell_type": "markdown",
   "id": "c6d8d796",
   "metadata": {},
   "source": [
    "&nbsp;&nbsp;&nbsp;&nbsp;&nbsp;&nbsp;&nbsp;&nbsp;&nbsp;[1] x. xxx, \"xxx,\" xxx, JanXXXry 2XX1.\n",
    "\n",
    "\n",
    "&nbsp;&nbsp;&nbsp;&nbsp;&nbsp;&nbsp;&nbsp;&nbsp;&nbsp;[0] Anaconda (built-in), \"range,\" Docstring, Conda:4.9.2 (Python:3.8.5).\n",
    "\n",
    "&nbsp;&nbsp;&nbsp;&nbsp;&nbsp;&nbsp;&nbsp;&nbsp;&nbsp;[0] Anaconda (plot), \"matplotlib.pyplot,\" Docstring, Conda:4.9.2 (Python:3.8.5).\n",
    "\n",
    "&nbsp;&nbsp;&nbsp;&nbsp;&nbsp;&nbsp;&nbsp;&nbsp;&nbsp;[0] D. Carr, \"CTA - Lecture 1 Part 1,\" GMIT, January 2021.\n",
    "\n",
    "&nbsp;&nbsp;&nbsp;&nbsp;&nbsp;&nbsp;&nbsp;&nbsp;&nbsp;[0] A. Beatty, \"xxx,\" GMIT, January 202x.\n",
    "\n",
    "&nbsp;&nbsp;&nbsp;&nbsp;&nbsp;&nbsp;&nbsp;&nbsp;&nbsp;[0] M. R. Fellows, I. Parberry, \"SIGACT Trying to Get Children Excited About CS,\" [ianparberry](https://web.archive.org/web/20210220071000/http://ianparberry.com/research/cseducation), January 1993.\n",
    "\n",
    "###### fubar-000\n",
    "\n",
    "&nbsp;&nbsp;&nbsp;&nbsp;&nbsp;&nbsp;&nbsp;&nbsp;&nbsp;[0] A. Beatty, \"prog 0.0 introduction (Module: Programming for Cybersecurity),\" GMIT (Programme: Certificate in Cybersecurity Operations), January 2021."
   ]
  },
  {
   "cell_type": "markdown",
   "id": "e2a75abd",
   "metadata": {},
   "source": [
    "***\n",
    "## END"
   ]
  },
  {
   "cell_type": "markdown",
   "id": "07cb3f78",
   "metadata": {},
   "source": [
    "# END JUPYTER NOTEBOOK"
   ]
  }
 ],
 "metadata": {
  "kernelspec": {
   "display_name": "Python 3",
   "language": "python",
   "name": "python3"
  },
  "language_info": {
   "codemirror_mode": {
    "name": "ipython",
    "version": 3
   },
   "file_extension": ".py",
   "mimetype": "text/x-python",
   "name": "python",
   "nbconvert_exporter": "python",
   "pygments_lexer": "ipython3",
   "version": "3.8.8"
  }
 },
 "nbformat": 4,
 "nbformat_minor": 5
}
